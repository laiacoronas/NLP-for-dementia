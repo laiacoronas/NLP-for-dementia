{
 "cells": [
  {
   "cell_type": "code",
   "execution_count": 1,
   "metadata": {},
   "outputs": [
    {
     "name": "stdout",
     "output_type": "stream",
     "text": [
      "Archivo guardado en: C:\\Users\\lclai\\Desktop\\data_dementia\\clean\\pitt_withoutwords.csv\n"
     ]
    },
    {
     "name": "stderr",
     "output_type": "stream",
     "text": [
      "[nltk_data] Downloading package stopwords to\n",
      "[nltk_data]     C:\\Users\\lclai\\AppData\\Roaming\\nltk_data...\n",
      "[nltk_data]   Unzipping corpora\\stopwords.zip.\n"
     ]
    }
   ],
   "source": [
    "import pandas as pd\n",
    "import re\n",
    "import nltk\n",
    "from nltk.corpus import stopwords\n",
    "\n",
    "nltk.download('stopwords')\n",
    "\n",
    "extra_stopwords = {\"xxx\", \"www\", \"laughs\", \"uh\", \"um\", \"oh\", \"shh\", \"okay\", \"god\",\n",
    "                   \"like\", \"you know\", \"uhm\", \"er\", \"hm\", \"hmm\", \"ah\", \"ohh\", \"huh\",\n",
    "                   \"well\", \"yeah\", \"right\", \"etc\",\"I\",\"it\",\"to\",\"is\",\n",
    "                   \"in\",\"on\",\"the\",\"be\",\"of\", 'call', 'upon', 'still', \n",
    "                   'nevertheless', 'down', 'every', 'forty', '‘re', 'always', 'whole', \n",
    "                   'side', \"n't\", 'now', 'however', 'an', 'show', 'least', 'give', 'below', \n",
    "                   'did', 'sometimes', 'which', \"'s\", 'nowhere', 'per', 'hereupon', 'yours', 'she', \n",
    "                   'moreover', 'eight', 'somewhere', 'within', 'whereby', 'few', 'has', 'so', 'have', 'for', \n",
    "                   'noone', 'top', 'were', 'those', 'thence', 'eleven', 'after', 'no', '’ll', 'others', 'ourselves', \n",
    "                   'themselves', 'though', 'that', 'nor', 'just', '’s', 'before', 'had', 'toward', 'another', 'should', \n",
    "                   'herself', 'and', 'these', 'such', 'elsewhere', 'further', 'next', 'indeed', 'bottom', 'anyone', 'his', \n",
    "                   'each', 'then', 'both', 'became', 'third', 'whom', '‘ve', 'mine', 'take', 'many', 'anywhere', 'to', 'well', \n",
    "                   'thereafter', 'besides', 'almost', 'front', 'fifteen', 'towards', 'none', 'be', 'herein', 'two', 'using', \n",
    "                   'whatever', 'please', 'perhaps', 'full', 'ca', 'we', 'latterly', 'here', 'therefore', 'us', 'how', 'was', \n",
    "                   'made', 'the', 'or', 'may', '’re', 'namely', \"'ve\", 'anyway', 'amongst', 'used', 'ever', 'of', 'there', \n",
    "                   'than', 'why', 'really', 'whither', 'in', 'only', 'wherein', 'last', 'under', 'own', 'therein',\n",
    "                   'go', 'seems', '‘m', 'wherever', 'either', 'someone', 'up', 'doing', 'on', 'rather', 'ours', 'again',\n",
    "                   'same', 'over', '‘s', 'latter', 'during', 'done', \"'re\", 'put', \"'m\", 'much', 'neither', 'among', 'seemed',\n",
    "                   'into', 'once', 'my', 'otherwise', 'part', 'everywhere', 'never', 'myself', 'must', 'will', 'am', 'can', 'else',\n",
    "                   'although', 'as', 'beyond', 'are', 'too', 'becomes', 'does', 'a', 'everyone', 'but', 'some', 'regarding', \n",
    "                   '‘ll', 'against', 'throughout', 'yourselves', 'him', \"'d\", 'it', 'himself', 'whether', 'move', '’m', \n",
    "                   'hereafter', 're', 'while', 'whoever', 'your', 'first', 'amount', 'twelve', 'serious', 'other', 'any', \n",
    "                   'off', 'seeming', 'four', 'itself', 'nothing', 'beforehand', 'make', 'out', 'very', 'already', 'various', \n",
    "                   'until', 'hers', 'they', 'not', 'them', 'where', 'would', 'since', 'everything', 'at', 'together', 'yet', \n",
    "                   'more', 'six', 'back', 'with', 'thereupon', 'becoming', 'around', 'due', 'keep', 'somehow', 'n‘t', 'across', \n",
    "                   'all', 'when', 'i', 'empty', 'nine', 'five', 'get', 'see', 'been', 'name', 'between', 'hence', 'ten', \n",
    "                   'several', 'from', 'whereupon', 'through', 'hereby', \"'ll\", 'alone', 'something', 'formerly', \n",
    "                   'without', 'above', 'onto', 'except', 'enough', 'become', 'behind', '’d', 'its', 'most', 'n’t',\n",
    "                   'might', 'whereas', 'anything', 'if', 'her', 'via', 'fifty', 'is', 'thereby', 'twenty', 'often',\n",
    "                   'whereafter', 'their', 'also', 'anyhow', 'cannot', 'our', 'could', 'because', 'who', 'beside', 'by',\n",
    "                   'whence', 'being', 'meanwhile', 'this', 'afterwards', 'whenever', 'mostly', 'what', 'one', 'nobody', \n",
    "                   'seem', 'less', 'do', '‘d', 'say', 'thus', 'unless', 'along', 'yourself', 'former', 'thru', 'he', \n",
    "                   'hundred', 'three', 'sixty', 'me', 'sometime', 'whose', 'you', 'quite', '’ve', 'about', 'even'}\n",
    "\n",
    "stop_words = set(stopwords.words(\"english\")).union(extra_stopwords)\n",
    "\n",
    "def clean_text(text):\n",
    "    if pd.isna(text):  \n",
    "        return \"\"\n",
    "    text = text.lower() \n",
    "    text = re.sub(r\"[^a-z\\s]\", \"\", text)  \n",
    "    words = text.split()  \n",
    "    \n",
    "    words = [word for word in words if word not in stop_words]\n",
    "    \n",
    "    cleaned_words = []\n",
    "    prev_word = None\n",
    "    for word in words:\n",
    "        if word != prev_word:\n",
    "            cleaned_words.append(word)\n",
    "        prev_word = word\n",
    "    \n",
    "    return \" \".join(cleaned_words)\n",
    "\n",
    "\n",
    "input_csv = \"C:\\\\Users\\\\lclai\\\\Desktop\\\\data_dementia\\\\clean\\\\pitt_clean.csv\"\n",
    "\n",
    "output_csv = \"C:\\\\Users\\\\lclai\\\\Desktop\\\\data_dementia\\\\clean\\\\pitt_withoutwords.csv\"\n",
    "\n",
    "df = pd.read_csv(input_csv)\n",
    "\n",
    "text_column = \"clean_transcripts\"\n",
    "\n",
    "df[text_column] = df[text_column].astype(str).apply(clean_text)\n",
    "\n",
    "df.to_csv(output_csv, index=False)\n",
    "\n",
    "print(f\"Archivo guardado en: {output_csv}\")\n"
   ]
  }
 ],
 "metadata": {
  "kernelspec": {
   "display_name": "envlaia",
   "language": "python",
   "name": "python3"
  },
  "language_info": {
   "codemirror_mode": {
    "name": "ipython",
    "version": 3
   },
   "file_extension": ".py",
   "mimetype": "text/x-python",
   "name": "python",
   "nbconvert_exporter": "python",
   "pygments_lexer": "ipython3",
   "version": "3.12.2"
  }
 },
 "nbformat": 4,
 "nbformat_minor": 2
}
