{
 "cells": [
  {
   "cell_type": "markdown",
   "metadata": {},
   "source": [
    "#### 1. CODIFY THE TEXT USING BERT\n",
    "\n",
    "Python 3.8\n",
    "\n",
    "De forma local optimiza el uso del GPU"
   ]
  },
  {
   "cell_type": "code",
   "execution_count": 63,
   "metadata": {},
   "outputs": [
    {
     "name": "stdout",
     "output_type": "stream",
     "text": [
      "Last Hidden State Shape: (1, 171, 768)\n"
     ]
    }
   ],
   "source": [
    "text = \"the scene is in the in the kitchen . the mother is wiping dishes and the water is running on the floor . a child is trying to get a boy is trying to get cookies outta a jar and hes about to tip over on a stool . uh the little girl is reacting to his falling . uh it seems to be summer out . the window is open . the curtains are blowing . it must be a gentle breeze . theres grass outside in the garden . uh mothers finished certain of the the dishes . kitchens very tidy . the mother seems to have nothing in the house to eat except cookies in the cookie jar . uh the children look to be almost about the same size . perhaps theyre twins . theyre dressed for summer warm weather . um you want more the mothers in a short sleeve dress . Ill hafta say its warm .\"\n",
    "\n",
    "import tensorflow as tf\n",
    "from transformers import BertConfig, TFBertModel, BertTokenizer\n",
    "\n",
    "custom_config = BertConfig(\n",
    "    vocab_size=30522,               \n",
    "    num_attention_heads=12,         \n",
    "    num_hidden_layers=12,          \n",
    "    attention_probs_dropout_prob=0.1,  \n",
    "    hidden_size=768,                \n",
    "    intermediate_size=3072,        \n",
    "    hidden_dropout_prob=0.1,        \n",
    "    hidden_act=\"relu\",              \n",
    "    max_position_embeddings=512    \n",
    ")\n",
    "\n",
    "model = TFBertModel(custom_config)\n",
    "tokenizer = BertTokenizer.from_pretrained(\"bert-base-uncased\")\n",
    "\n",
    "inputs = tokenizer(\n",
    "    text,\n",
    "    return_tensors=\"tf\",\n",
    "    padding=True,\n",
    "    truncation=True,\n",
    "    max_length=512\n",
    ")\n",
    "\n",
    "bert_outputs = model(**inputs)\n",
    "\n",
    "bert_last_hidden_state = bert_outputs.last_hidden_state \n",
    "bert_pooled_output = bert_outputs.pooler_output        \n",
    "\n",
    "print(\"Last Hidden State Shape:\", bert_last_hidden_state.shape)\n",
    "\n",
    "# shape: number of samples is 1, number of tokens is 171 and size of the embedding vector is 768"
   ]
  },
  {
   "cell_type": "code",
   "execution_count": 64,
   "metadata": {},
   "outputs": [
    {
     "data": {
      "text/plain": [
       "TensorShape([1, 768])"
      ]
     },
     "execution_count": 64,
     "metadata": {},
     "output_type": "execute_result"
    }
   ],
   "source": [
    "bert_pooled_output.shape"
   ]
  },
  {
   "cell_type": "markdown",
   "metadata": {},
   "source": [
    "#### 2.1. CNN TEXT MODEL"
   ]
  },
  {
   "cell_type": "code",
   "execution_count": 103,
   "metadata": {},
   "outputs": [
    {
     "name": "stdout",
     "output_type": "stream",
     "text": [
      "Feature Vector Shape: (1, 260)\n"
     ]
    }
   ],
   "source": [
    "class TextCNN(tf.keras.Model):\n",
    "    def __init__(self, dropout_prob=0.5):\n",
    "        super(TextCNN, self).__init__()\n",
    "        \n",
    "        # convolution kernels\n",
    "        self.conv1 = tf.keras.layers.Conv2D(130, (5, 768), activation='relu')\n",
    "        self.conv2 = tf.keras.layers.Conv2D(130, (10, 768), activation='relu')\n",
    "        self.conv3 = tf.keras.layers.Conv2D(130, (15, 768), activation='relu')\n",
    "        self.conv4 = tf.keras.layers.Conv2D(130, (20, 768), activation='relu')\n",
    "\n",
    "        # max pooling\n",
    "        self.pool = tf.keras.layers.GlobalMaxPooling2D()\n",
    "\n",
    "        # fusion layer\n",
    "        self.fc = tf.keras.layers.Dense(260, activation='relu')\n",
    "        self.dropout = tf.keras.layers.Dropout(dropout_prob)\n",
    "\n",
    "    def call(self, inputs):\n",
    "        # input the output of the bert model\n",
    "        x = tf.expand_dims(inputs, -1) \n",
    "    \n",
    "        x1 = self.conv1(x)\n",
    "        x2 = self.conv2(x)\n",
    "        x3 = self.conv3(x)\n",
    "        x4 = self.conv4(x)\n",
    "        \n",
    "        # pool the outputs of the convolution layers \n",
    "        pooled_1 = self.pool(x1)\n",
    "        pooled_2 = self.pool(x2)\n",
    "        pooled_3 = self.pool(x3)\n",
    "        pooled_4 = self.pool(x4)\n",
    "        \n",
    "        # fusion of all the features\n",
    "        fused_features = tf.concat([pooled_1, pooled_2, pooled_3, pooled_4], axis=-1)\n",
    "\n",
    "        feature_vector = self.fc(fused_features)\n",
    "        feature_vector = self.dropout(feature_vector)\n",
    "        \n",
    "        return feature_vector\n",
    "\n",
    "textcnn_model = TextCNN()\n",
    "#feature_vector_cnn = textcnn_model(bert_last_hidden_state)  \n",
    "print(\"Feature Vector Shape:\", feature_vector_cnn.shape)"
   ]
  },
  {
   "cell_type": "markdown",
   "metadata": {},
   "source": [
    "#### 2.2. LTSM MODEL"
   ]
  },
  {
   "cell_type": "code",
   "execution_count": 66,
   "metadata": {},
   "outputs": [
    {
     "name": "stdout",
     "output_type": "stream",
     "text": [
      "Shape del vector de características (LSTM): (1, 260)\n"
     ]
    }
   ],
   "source": [
    "lstm_units = 260 \n",
    "dropout_rate = 0.5\n",
    "\n",
    "lstm_model = tf.keras.Sequential([\n",
    "    tf.keras.layers.InputLayer(input_shape=(None, 768)), \n",
    "    tf.keras.layers.LSTM(\n",
    "        units=lstm_units,\n",
    "        activation='relu',          \n",
    "        return_sequences=False      \n",
    "    ),\n",
    "    tf.keras.layers.Dropout(dropout_rate)  \n",
    "])\n",
    "\n",
    "lstm_features = lstm_model(bert_last_hidden_state)\n",
    "print(\"Shape del vector de características (LSTM):\", lstm_features.shape)"
   ]
  },
  {
   "cell_type": "markdown",
   "metadata": {},
   "source": [
    "Now we have to concatenate the CNN + LTSM"
   ]
  },
  {
   "cell_type": "code",
   "execution_count": 67,
   "metadata": {},
   "outputs": [
    {
     "name": "stdout",
     "output_type": "stream",
     "text": [
      "Concatenated Feature Vector Shape: (1, 520)\n"
     ]
    }
   ],
   "source": [
    "concatenated_vector = tf.concat([lstm_features, feature_vector_cnn], axis=-1)\n",
    "print(\"Concatenated Feature Vector Shape:\", concatenated_vector.shape)"
   ]
  },
  {
   "cell_type": "markdown",
   "metadata": {},
   "source": [
    "Now, the fused features need to be passed into the fully connected layer first, and the Softmax classifier is used for the classification task. The dimension of the output vector must be the same as the number of categories (2 in this study) in the classification. Finally, we used the feature vector F to do the classification; y =soft max(WcF +bc)"
   ]
  },
  {
   "cell_type": "code",
   "execution_count": 68,
   "metadata": {},
   "outputs": [
    {
     "name": "stdout",
     "output_type": "stream",
     "text": [
      "Prediction class: [[0.6978939  0.30210614]]\n",
      "Shape: (1, 2)\n"
     ]
    }
   ],
   "source": [
    "input_dim = 520  \n",
    "num_classes = 2  \n",
    "\n",
    "classification_model = tf.keras.Sequential([\n",
    "    tf.keras.layers.InputLayer(input_shape=(input_dim,)),  \n",
    "    tf.keras.layers.Dense(\n",
    "        units=num_classes,  \n",
    "        activation='softmax' \n",
    "    )\n",
    "])\n",
    "\n",
    "#random example to see if the dimensions work\n",
    "y_pred = classification_model(concatenated_vector)\n",
    "\n",
    "print(\"Prediction class:\", y_pred.numpy()) #probability of belonging to each class\n",
    "print(\"Shape:\", y_pred.shape) "
   ]
  },
  {
   "cell_type": "markdown",
   "metadata": {},
   "source": [
    "#### Training the model\n",
    "\n",
    "Example: https://www.tensorflow.org/tutorials/keras/classification?\n",
    "\n",
    "We have not trained the model, so the last prediction is randomly made.\n",
    "\n",
    "For the training of the network, the paper mentions the following:\n",
    "\n",
    "- epoch: 10\n",
    "- batch size: 16\n",
    "- learning rate: 1e-5\n",
    "- dropout: 0.2\n",
    "- max grad norm: 10\n",
    "- train: test is proportion 7:3\n",
    "- 10 consecutive runs\n",
    "- performance: accuracy\n",
    "- loss: crossentropy\n",
    "- optimizer: AdamW, where W stands for weight decay\n"
   ]
  },
  {
   "cell_type": "code",
   "execution_count": 69,
   "metadata": {},
   "outputs": [
    {
     "name": "stdout",
     "output_type": "stream",
     "text": [
      "Last Hidden States Tensor Shape: (496, 1, 512, 768)\n",
      "Pooler Outputs Tensor Shape: (496, 1, 768)\n"
     ]
    }
   ],
   "source": [
    "import pandas as pd\n",
    "import tensorflow as tf\n",
    "from transformers import BertTokenizer, TFBertModel, BertConfig\n",
    "\n",
    "tokenizer = BertTokenizer.from_pretrained(\"bert-base-uncased\")\n",
    "custom_config = BertConfig(\n",
    "    vocab_size=30522,               \n",
    "    num_attention_heads=12,        \n",
    "    num_hidden_layers=12,          \n",
    "    attention_probs_dropout_prob=0.1,  \n",
    "    hidden_size=768,               \n",
    "    intermediate_size=3072,        \n",
    "    hidden_dropout_prob=0.1,       \n",
    "    hidden_act=\"relu\",             \n",
    "    max_position_embeddings=512    \n",
    ")\n",
    "bert_model = TFBertModel(custom_config)\n",
    "\n",
    "data = pd.read_csv(\"C:\\\\Users\\\\lclai\\\\Desktop\\\\transcripts_cleaned.csv\")\n",
    "data = data[[\"label\", \"clean_transcripts\"]]\n",
    "\n",
    "data = data[(data['label'] == 0) | (data['label'] == 1)]\n",
    "\n",
    "def preprocess_and_get_bert_embeddings(text, tokenizer, model, max_length=512):\n",
    "    inputs = tokenizer(\n",
    "        text,\n",
    "        return_tensors=\"tf\",\n",
    "        padding='max_length',  \n",
    "        truncation=True,\n",
    "        max_length=max_length\n",
    "    )\n",
    "    \n",
    "    bert_outputs = model(**inputs)\n",
    "    return bert_outputs.last_hidden_state, bert_outputs.pooler_output \n",
    "\n",
    "input_ids = []\n",
    "attention_masks = []\n",
    "last_hidden_states = []\n",
    "pooler_outputs = []\n",
    "\n",
    "for text in data['clean_transcripts']:\n",
    "    last_hidden_state, pooler_output = preprocess_and_get_bert_embeddings(text, tokenizer, bert_model)\n",
    "    last_hidden_states.append(last_hidden_state.numpy())  \n",
    "    pooler_outputs.append(pooler_output.numpy())\n",
    "\n",
    "last_hidden_states_tensor = tf.convert_to_tensor(last_hidden_states, dtype=tf.float32)\n",
    "pooler_outputs_tensor = tf.convert_to_tensor(pooler_outputs, dtype=tf.float32)\n",
    "\n",
    "print(f\"Last Hidden States Tensor Shape: {last_hidden_states_tensor.shape}\")\n",
    "print(f\"Pooler Outputs Tensor Shape: {pooler_outputs_tensor.shape}\")\n"
   ]
  },
  {
   "cell_type": "code",
   "execution_count": 93,
   "metadata": {},
   "outputs": [
    {
     "name": "stdout",
     "output_type": "stream",
     "text": [
      "x train shape: (347, 512, 768), x test shape: (149, 512, 768)\n",
      "y train shape: (347,), y test shape: (149,)\n"
     ]
    }
   ],
   "source": [
    "import numpy as np\n",
    "from sklearn.model_selection import train_test_split\n",
    "\n",
    "X = last_hidden_states_tensor[:, 0, :].numpy()\n",
    "y = data['label'].values\n",
    "\n",
    "X_train, X_test, y_train, y_test = train_test_split(X, y, test_size=0.3, stratify=y, random_state=42)\n",
    "\n",
    "print(f\"x train shape: {X_train.shape}, x test shape: {X_test.shape}\")\n",
    "print(f\"y train shape: {y_train.shape}, y test shape: {y_test.shape}\")"
   ]
  },
  {
   "cell_type": "code",
   "execution_count": 94,
   "metadata": {},
   "outputs": [],
   "source": [
    "def obtain_features(sample):\n",
    "    sample_with_batch_dim = tf.expand_dims(sample, axis=0)  # (1, 512, 768)\n",
    "    sample_cnn = textcnn_model(sample_with_batch_dim)  # (1, features_cnn)\n",
    "    sample_lstm = lstm_model(sample_with_batch_dim)    # (1, features_lstm)\n",
    "    concatenated_vector = tf.concat([sample_cnn, sample_lstm], axis=-1)  # (1, total_features)\n",
    "    return concatenated_vector.numpy().squeeze()  \n"
   ]
  },
  {
   "cell_type": "code",
   "execution_count": 104,
   "metadata": {},
   "outputs": [],
   "source": [
    "import numpy as np\n",
    "\n",
    "X_features_train = []\n",
    "X_features_test = []\n",
    "\n",
    "# Para cada muestra en X_train\n",
    "for i in range(X_train.shape[0]):  \n",
    "    # Accede a la muestra i de forma (512, 768) y pasa a la función\n",
    "    X_features_train.append(obtain_features(X_train[i])) \n",
    "\n",
    "# Para cada muestra en X_test\n",
    "for i in range(X_test.shape[0]):  \n",
    "    # Accede a la muestra i de forma (512, 768) y pasa a la función\n",
    "    X_features_test.append(obtain_features(X_test[i]))\n",
    "\n",
    "# Convierte las listas a arrays numpy\n",
    "X_features_train = np.array(X_features_train)\n",
    "X_features_test = np.array(X_features_test)\n"
   ]
  },
  {
   "cell_type": "code",
   "execution_count": 117,
   "metadata": {},
   "outputs": [],
   "source": [
    "X_features_test = X_test"
   ]
  },
  {
   "cell_type": "code",
   "execution_count": 119,
   "metadata": {},
   "outputs": [],
   "source": [
    "X_features_train = X_train"
   ]
  },
  {
   "cell_type": "code",
   "execution_count": 130,
   "metadata": {},
   "outputs": [
    {
     "data": {
      "text/plain": [
       "(512, 768)"
      ]
     },
     "execution_count": 130,
     "metadata": {},
     "output_type": "execute_result"
    }
   ],
   "source": [
    "X_train.shape[1:]"
   ]
  },
  {
   "cell_type": "code",
   "execution_count": 123,
   "metadata": {},
   "outputs": [
    {
     "data": {
      "text/plain": [
       "(149, 512, 768)"
      ]
     },
     "execution_count": 123,
     "metadata": {},
     "output_type": "execute_result"
    }
   ],
   "source": [
    "X_test.shape"
   ]
  },
  {
   "cell_type": "code",
   "execution_count": 153,
   "metadata": {},
   "outputs": [
    {
     "name": "stdout",
     "output_type": "stream",
     "text": [
      "Run 1/10\n",
      "Epoch 1/10\n",
      "22/22 [==============================] - 1s 17ms/step - loss: 2.2390 - accuracy: 0.5101 - val_loss: 2.0612 - val_accuracy: 0.5101\n",
      "Epoch 2/10\n",
      "22/22 [==============================] - 0s 9ms/step - loss: 1.2686 - accuracy: 0.4957 - val_loss: 0.7875 - val_accuracy: 0.4899\n",
      "Epoch 3/10\n",
      "22/22 [==============================] - 0s 9ms/step - loss: 0.7440 - accuracy: 0.5821 - val_loss: 0.7581 - val_accuracy: 0.5101\n",
      "Epoch 4/10\n",
      "22/22 [==============================] - 0s 10ms/step - loss: 0.6747 - accuracy: 0.5879 - val_loss: 0.6436 - val_accuracy: 0.7047\n",
      "Epoch 5/10\n",
      "22/22 [==============================] - 0s 9ms/step - loss: 0.7556 - accuracy: 0.5274 - val_loss: 0.7805 - val_accuracy: 0.4899\n",
      "Epoch 6/10\n",
      "22/22 [==============================] - 0s 9ms/step - loss: 0.6931 - accuracy: 0.5735 - val_loss: 0.7991 - val_accuracy: 0.4899\n",
      "Epoch 7/10\n",
      "22/22 [==============================] - 0s 9ms/step - loss: 0.7074 - accuracy: 0.5418 - val_loss: 0.6388 - val_accuracy: 0.7315\n",
      "Epoch 8/10\n",
      "22/22 [==============================] - 0s 9ms/step - loss: 0.6586 - accuracy: 0.5994 - val_loss: 0.6506 - val_accuracy: 0.5503\n",
      "Epoch 9/10\n",
      "22/22 [==============================] - 0s 9ms/step - loss: 0.6535 - accuracy: 0.6023 - val_loss: 0.6887 - val_accuracy: 0.5235\n",
      "Epoch 10/10\n",
      "22/22 [==============================] - 0s 9ms/step - loss: 0.6907 - accuracy: 0.5303 - val_loss: 0.7027 - val_accuracy: 0.5101\n",
      "Run 2/10\n",
      "Epoch 1/10\n",
      "22/22 [==============================] - 1s 20ms/step - loss: 2.5272 - accuracy: 0.4582 - val_loss: 0.7089 - val_accuracy: 0.4899\n",
      "Epoch 2/10\n",
      "22/22 [==============================] - 0s 9ms/step - loss: 0.7041 - accuracy: 0.4640 - val_loss: 0.6937 - val_accuracy: 0.4899\n",
      "Epoch 3/10\n",
      "22/22 [==============================] - 0s 10ms/step - loss: 0.6939 - accuracy: 0.4611 - val_loss: 0.6932 - val_accuracy: 0.5101\n",
      "Epoch 4/10\n",
      "22/22 [==============================] - 0s 9ms/step - loss: 0.6938 - accuracy: 0.4524 - val_loss: 0.6931 - val_accuracy: 0.5101\n",
      "Epoch 5/10\n",
      "22/22 [==============================] - 0s 10ms/step - loss: 0.6935 - accuracy: 0.5101 - val_loss: 0.6930 - val_accuracy: 0.5101\n",
      "Epoch 6/10\n",
      "22/22 [==============================] - 0s 9ms/step - loss: 0.6931 - accuracy: 0.5101 - val_loss: 0.6929 - val_accuracy: 0.5101\n",
      "Epoch 7/10\n",
      "22/22 [==============================] - 0s 9ms/step - loss: 0.6933 - accuracy: 0.5101 - val_loss: 0.6930 - val_accuracy: 0.5101\n",
      "Epoch 8/10\n",
      "22/22 [==============================] - 0s 9ms/step - loss: 0.6932 - accuracy: 0.5101 - val_loss: 0.6929 - val_accuracy: 0.5101\n",
      "Epoch 9/10\n",
      "22/22 [==============================] - 0s 10ms/step - loss: 0.6934 - accuracy: 0.5101 - val_loss: 0.6930 - val_accuracy: 0.5101\n",
      "Epoch 10/10\n",
      "22/22 [==============================] - 0s 10ms/step - loss: 0.6929 - accuracy: 0.5101 - val_loss: 0.6929 - val_accuracy: 0.5101\n",
      "Run 3/10\n",
      "Epoch 1/10\n",
      "22/22 [==============================] - 1s 17ms/step - loss: 2.2285 - accuracy: 0.5130 - val_loss: 0.6933 - val_accuracy: 0.5235\n",
      "Epoch 2/10\n",
      "22/22 [==============================] - 0s 9ms/step - loss: 0.7142 - accuracy: 0.5130 - val_loss: 0.7346 - val_accuracy: 0.5168\n",
      "Epoch 3/10\n",
      "22/22 [==============================] - 0s 10ms/step - loss: 0.6954 - accuracy: 0.5620 - val_loss: 0.6578 - val_accuracy: 0.6577\n",
      "Epoch 4/10\n",
      "22/22 [==============================] - 0s 10ms/step - loss: 0.7352 - accuracy: 0.5130 - val_loss: 0.7727 - val_accuracy: 0.4899\n",
      "Epoch 5/10\n",
      "22/22 [==============================] - 0s 9ms/step - loss: 0.6950 - accuracy: 0.5360 - val_loss: 0.6640 - val_accuracy: 0.6577\n",
      "Epoch 6/10\n",
      "22/22 [==============================] - 0s 9ms/step - loss: 0.6777 - accuracy: 0.5764 - val_loss: 0.6760 - val_accuracy: 0.4966\n",
      "Epoch 7/10\n",
      "22/22 [==============================] - 0s 10ms/step - loss: 0.7006 - accuracy: 0.5101 - val_loss: 0.6854 - val_accuracy: 0.5235\n",
      "Epoch 8/10\n",
      "22/22 [==============================] - 0s 9ms/step - loss: 0.6838 - accuracy: 0.5476 - val_loss: 0.6711 - val_accuracy: 0.5570\n",
      "Epoch 9/10\n",
      "22/22 [==============================] - 0s 10ms/step - loss: 0.6759 - accuracy: 0.5764 - val_loss: 0.7083 - val_accuracy: 0.5101\n",
      "Epoch 10/10\n",
      "22/22 [==============================] - 0s 9ms/step - loss: 0.6719 - accuracy: 0.5908 - val_loss: 0.6587 - val_accuracy: 0.6376\n",
      "Run 4/10\n",
      "Epoch 1/10\n",
      "22/22 [==============================] - 1s 17ms/step - loss: 2.7050 - accuracy: 0.4986 - val_loss: 0.8528 - val_accuracy: 0.4899\n",
      "Epoch 2/10\n",
      "22/22 [==============================] - 0s 10ms/step - loss: 0.7286 - accuracy: 0.4899 - val_loss: 0.6930 - val_accuracy: 0.5168\n",
      "Epoch 3/10\n",
      "22/22 [==============================] - 0s 9ms/step - loss: 0.6926 - accuracy: 0.5159 - val_loss: 0.6865 - val_accuracy: 0.4966\n",
      "Epoch 4/10\n",
      "22/22 [==============================] - 0s 9ms/step - loss: 0.7044 - accuracy: 0.5418 - val_loss: 0.7004 - val_accuracy: 0.4899\n",
      "Epoch 5/10\n",
      "22/22 [==============================] - 0s 10ms/step - loss: 0.6970 - accuracy: 0.5159 - val_loss: 0.6813 - val_accuracy: 0.6040\n",
      "Epoch 6/10\n",
      "22/22 [==============================] - 0s 9ms/step - loss: 0.6786 - accuracy: 0.5648 - val_loss: 0.6798 - val_accuracy: 0.5369\n",
      "Epoch 7/10\n",
      "22/22 [==============================] - 0s 9ms/step - loss: 0.6674 - accuracy: 0.5908 - val_loss: 0.6813 - val_accuracy: 0.5302\n",
      "Epoch 8/10\n",
      "22/22 [==============================] - 0s 9ms/step - loss: 0.6640 - accuracy: 0.6023 - val_loss: 0.7427 - val_accuracy: 0.5168\n",
      "Epoch 9/10\n",
      "22/22 [==============================] - 0s 10ms/step - loss: 0.6747 - accuracy: 0.5850 - val_loss: 0.6718 - val_accuracy: 0.5570\n",
      "Epoch 10/10\n",
      "22/22 [==============================] - 0s 9ms/step - loss: 0.6691 - accuracy: 0.5764 - val_loss: 0.6838 - val_accuracy: 0.5369\n",
      "Run 5/10\n",
      "Epoch 1/10\n",
      "22/22 [==============================] - 1s 18ms/step - loss: 2.7211 - accuracy: 0.5187 - val_loss: 0.8773 - val_accuracy: 0.4899\n",
      "Epoch 2/10\n",
      "22/22 [==============================] - 0s 9ms/step - loss: 0.8031 - accuracy: 0.4611 - val_loss: 0.7100 - val_accuracy: 0.4899\n",
      "Epoch 3/10\n",
      "22/22 [==============================] - 0s 9ms/step - loss: 0.7119 - accuracy: 0.5389 - val_loss: 0.7048 - val_accuracy: 0.4899\n",
      "Epoch 4/10\n",
      "22/22 [==============================] - 0s 10ms/step - loss: 0.7047 - accuracy: 0.5331 - val_loss: 0.6758 - val_accuracy: 0.6242\n",
      "Epoch 5/10\n",
      "22/22 [==============================] - 0s 9ms/step - loss: 0.6802 - accuracy: 0.5706 - val_loss: 0.6860 - val_accuracy: 0.4899\n",
      "Epoch 6/10\n",
      "22/22 [==============================] - 0s 9ms/step - loss: 0.6674 - accuracy: 0.5620 - val_loss: 0.6760 - val_accuracy: 0.5235\n",
      "Epoch 7/10\n",
      "22/22 [==============================] - 0s 11ms/step - loss: 0.6817 - accuracy: 0.5764 - val_loss: 0.6724 - val_accuracy: 0.5302\n",
      "Epoch 8/10\n",
      "22/22 [==============================] - 0s 10ms/step - loss: 0.6671 - accuracy: 0.6167 - val_loss: 0.6812 - val_accuracy: 0.5235\n",
      "Epoch 9/10\n",
      "22/22 [==============================] - 0s 9ms/step - loss: 0.6734 - accuracy: 0.5591 - val_loss: 0.6583 - val_accuracy: 0.6174\n",
      "Epoch 10/10\n",
      "22/22 [==============================] - 0s 10ms/step - loss: 0.6446 - accuracy: 0.6254 - val_loss: 0.6787 - val_accuracy: 0.5168\n",
      "Run 6/10\n",
      "Epoch 1/10\n",
      "22/22 [==============================] - 1s 18ms/step - loss: 3.0046 - accuracy: 0.4986 - val_loss: 0.7116 - val_accuracy: 0.4899\n",
      "Epoch 2/10\n",
      "22/22 [==============================] - 0s 9ms/step - loss: 0.8204 - accuracy: 0.4726 - val_loss: 0.8625 - val_accuracy: 0.4899\n",
      "Epoch 3/10\n",
      "22/22 [==============================] - 0s 9ms/step - loss: 0.7866 - accuracy: 0.4784 - val_loss: 0.6744 - val_accuracy: 0.6242\n",
      "Epoch 4/10\n",
      "22/22 [==============================] - 0s 9ms/step - loss: 0.6761 - accuracy: 0.5937 - val_loss: 0.6711 - val_accuracy: 0.6309\n",
      "Epoch 5/10\n",
      "22/22 [==============================] - 0s 10ms/step - loss: 0.6749 - accuracy: 0.5850 - val_loss: 0.7555 - val_accuracy: 0.4899\n",
      "Epoch 6/10\n",
      "22/22 [==============================] - 0s 9ms/step - loss: 0.6845 - accuracy: 0.5562 - val_loss: 0.6575 - val_accuracy: 0.6846\n",
      "Epoch 7/10\n",
      "22/22 [==============================] - 0s 9ms/step - loss: 0.6598 - accuracy: 0.5821 - val_loss: 0.6663 - val_accuracy: 0.5570\n",
      "Epoch 8/10\n",
      "22/22 [==============================] - 0s 11ms/step - loss: 0.6627 - accuracy: 0.6023 - val_loss: 0.6999 - val_accuracy: 0.5101\n",
      "Epoch 9/10\n",
      "22/22 [==============================] - 0s 9ms/step - loss: 0.6712 - accuracy: 0.5965 - val_loss: 0.6561 - val_accuracy: 0.5705\n",
      "Epoch 10/10\n",
      "22/22 [==============================] - 0s 10ms/step - loss: 0.6907 - accuracy: 0.5821 - val_loss: 0.6534 - val_accuracy: 0.5973\n",
      "Run 7/10\n",
      "Epoch 1/10\n",
      "22/22 [==============================] - 1s 17ms/step - loss: 2.3202 - accuracy: 0.4957 - val_loss: 0.6905 - val_accuracy: 0.5436\n",
      "Epoch 2/10\n",
      "22/22 [==============================] - 0s 9ms/step - loss: 0.7282 - accuracy: 0.5418 - val_loss: 0.6964 - val_accuracy: 0.5168\n",
      "Epoch 3/10\n",
      "22/22 [==============================] - 0s 9ms/step - loss: 0.7137 - accuracy: 0.4870 - val_loss: 0.7511 - val_accuracy: 0.4899\n",
      "Epoch 4/10\n",
      "22/22 [==============================] - 0s 9ms/step - loss: 0.6974 - accuracy: 0.5159 - val_loss: 0.6872 - val_accuracy: 0.6107\n",
      "Epoch 5/10\n",
      "22/22 [==============================] - 0s 10ms/step - loss: 0.6808 - accuracy: 0.5706 - val_loss: 0.7493 - val_accuracy: 0.5101\n",
      "Epoch 6/10\n",
      "22/22 [==============================] - 0s 9ms/step - loss: 0.6885 - accuracy: 0.5706 - val_loss: 0.6998 - val_accuracy: 0.4899\n",
      "Epoch 7/10\n",
      "22/22 [==============================] - 0s 9ms/step - loss: 0.6922 - accuracy: 0.4784 - val_loss: 0.6929 - val_accuracy: 0.5168\n",
      "Epoch 8/10\n",
      "22/22 [==============================] - 0s 10ms/step - loss: 0.6939 - accuracy: 0.5072 - val_loss: 0.6929 - val_accuracy: 0.5101\n",
      "Epoch 9/10\n",
      "22/22 [==============================] - 0s 10ms/step - loss: 0.6931 - accuracy: 0.5101 - val_loss: 0.6930 - val_accuracy: 0.5101\n",
      "Epoch 10/10\n",
      "22/22 [==============================] - 0s 10ms/step - loss: 0.6937 - accuracy: 0.5101 - val_loss: 0.6929 - val_accuracy: 0.5101\n",
      "Run 8/10\n",
      "Epoch 1/10\n",
      "22/22 [==============================] - 1s 17ms/step - loss: 2.9369 - accuracy: 0.4697 - val_loss: 0.7598 - val_accuracy: 0.4899\n",
      "Epoch 2/10\n",
      "22/22 [==============================] - 0s 10ms/step - loss: 0.7173 - accuracy: 0.5389 - val_loss: 0.6921 - val_accuracy: 0.5168\n",
      "Epoch 3/10\n",
      "22/22 [==============================] - 0s 9ms/step - loss: 0.6950 - accuracy: 0.5159 - val_loss: 0.6888 - val_accuracy: 0.5570\n",
      "Epoch 4/10\n",
      "22/22 [==============================] - 0s 9ms/step - loss: 0.6900 - accuracy: 0.5360 - val_loss: 0.7005 - val_accuracy: 0.4899\n",
      "Epoch 5/10\n",
      "22/22 [==============================] - 0s 9ms/step - loss: 0.6815 - accuracy: 0.5677 - val_loss: 0.6995 - val_accuracy: 0.5168\n",
      "Epoch 6/10\n",
      "22/22 [==============================] - 0s 10ms/step - loss: 0.6826 - accuracy: 0.5274 - val_loss: 0.6799 - val_accuracy: 0.5369\n",
      "Epoch 7/10\n",
      "22/22 [==============================] - 0s 9ms/step - loss: 0.7017 - accuracy: 0.5101 - val_loss: 0.6848 - val_accuracy: 0.5101\n",
      "Epoch 8/10\n",
      "22/22 [==============================] - 0s 9ms/step - loss: 0.6933 - accuracy: 0.4870 - val_loss: 0.6930 - val_accuracy: 0.5101\n",
      "Epoch 9/10\n",
      "22/22 [==============================] - 0s 9ms/step - loss: 0.6932 - accuracy: 0.5101 - val_loss: 0.6929 - val_accuracy: 0.5101\n",
      "Epoch 10/10\n",
      "22/22 [==============================] - 0s 9ms/step - loss: 0.6924 - accuracy: 0.5101 - val_loss: 0.6927 - val_accuracy: 0.5101\n",
      "Run 9/10\n",
      "Epoch 1/10\n",
      "22/22 [==============================] - 1s 18ms/step - loss: 2.2853 - accuracy: 0.5245 - val_loss: 0.9042 - val_accuracy: 0.5101\n",
      "Epoch 2/10\n",
      "22/22 [==============================] - 0s 10ms/step - loss: 1.3036 - accuracy: 0.5245 - val_loss: 1.2544 - val_accuracy: 0.5101\n",
      "Epoch 3/10\n",
      "22/22 [==============================] - 0s 10ms/step - loss: 0.8425 - accuracy: 0.4841 - val_loss: 0.6853 - val_accuracy: 0.4899\n",
      "Epoch 4/10\n",
      "22/22 [==============================] - 0s 9ms/step - loss: 0.6868 - accuracy: 0.5533 - val_loss: 0.6868 - val_accuracy: 0.5101\n",
      "Epoch 5/10\n",
      "22/22 [==============================] - 0s 11ms/step - loss: 0.6888 - accuracy: 0.4986 - val_loss: 0.6894 - val_accuracy: 0.5168\n",
      "Epoch 6/10\n",
      "22/22 [==============================] - 0s 10ms/step - loss: 0.6866 - accuracy: 0.5447 - val_loss: 0.6715 - val_accuracy: 0.6242\n",
      "Epoch 7/10\n",
      "22/22 [==============================] - 0s 9ms/step - loss: 0.6828 - accuracy: 0.5706 - val_loss: 0.6824 - val_accuracy: 0.5973\n",
      "Epoch 8/10\n",
      "22/22 [==============================] - 0s 10ms/step - loss: 0.6921 - accuracy: 0.5620 - val_loss: 0.6885 - val_accuracy: 0.4899\n",
      "Epoch 9/10\n",
      "22/22 [==============================] - 0s 9ms/step - loss: 0.6881 - accuracy: 0.5447 - val_loss: 0.7102 - val_accuracy: 0.4899\n",
      "Epoch 10/10\n",
      "22/22 [==============================] - 0s 10ms/step - loss: 0.6722 - accuracy: 0.5735 - val_loss: 0.6789 - val_accuracy: 0.5570\n",
      "Run 10/10\n",
      "Epoch 1/10\n",
      "22/22 [==============================] - 1s 18ms/step - loss: 2.9256 - accuracy: 0.5072 - val_loss: 0.6929 - val_accuracy: 0.5101\n",
      "Epoch 2/10\n",
      "22/22 [==============================] - 0s 9ms/step - loss: 0.6933 - accuracy: 0.5216 - val_loss: 0.6970 - val_accuracy: 0.5101\n",
      "Epoch 3/10\n",
      "22/22 [==============================] - 0s 8ms/step - loss: 0.6960 - accuracy: 0.5303 - val_loss: 0.6932 - val_accuracy: 0.4899\n",
      "Epoch 4/10\n",
      "22/22 [==============================] - 0s 10ms/step - loss: 0.6939 - accuracy: 0.4899 - val_loss: 0.6934 - val_accuracy: 0.4899\n",
      "Epoch 5/10\n",
      "22/22 [==============================] - 0s 9ms/step - loss: 0.6942 - accuracy: 0.4697 - val_loss: 0.6929 - val_accuracy: 0.5101\n",
      "Epoch 6/10\n",
      "22/22 [==============================] - 0s 10ms/step - loss: 0.6932 - accuracy: 0.5101 - val_loss: 0.6929 - val_accuracy: 0.5101\n",
      "Epoch 7/10\n",
      "22/22 [==============================] - 0s 10ms/step - loss: 0.6934 - accuracy: 0.5101 - val_loss: 0.6929 - val_accuracy: 0.5101\n",
      "Epoch 8/10\n",
      "22/22 [==============================] - 0s 10ms/step - loss: 0.6932 - accuracy: 0.5101 - val_loss: 0.6930 - val_accuracy: 0.5101\n",
      "Epoch 9/10\n",
      "22/22 [==============================] - 0s 11ms/step - loss: 0.6940 - accuracy: 0.5101 - val_loss: 0.6930 - val_accuracy: 0.5101\n",
      "Epoch 10/10\n",
      "22/22 [==============================] - 0s 10ms/step - loss: 0.6963 - accuracy: 0.5101 - val_loss: 0.6929 - val_accuracy: 0.5101\n",
      "Run 11/10\n",
      "Epoch 1/10\n",
      "22/22 [==============================] - 1s 17ms/step - loss: 2.7835 - accuracy: 0.5072 - val_loss: 0.6948 - val_accuracy: 0.5436\n",
      "Epoch 2/10\n",
      "22/22 [==============================] - 0s 9ms/step - loss: 0.7601 - accuracy: 0.4755 - val_loss: 0.6848 - val_accuracy: 0.5235\n",
      "Epoch 3/10\n",
      "22/22 [==============================] - 0s 9ms/step - loss: 0.6820 - accuracy: 0.5764 - val_loss: 0.6915 - val_accuracy: 0.4966\n",
      "Epoch 4/10\n",
      "22/22 [==============================] - 0s 8ms/step - loss: 0.6788 - accuracy: 0.5447 - val_loss: 0.6744 - val_accuracy: 0.5570\n",
      "Epoch 5/10\n",
      "22/22 [==============================] - 0s 9ms/step - loss: 0.6691 - accuracy: 0.5447 - val_loss: 0.6995 - val_accuracy: 0.5168\n",
      "Epoch 6/10\n",
      "22/22 [==============================] - 0s 9ms/step - loss: 0.6591 - accuracy: 0.5735 - val_loss: 0.6617 - val_accuracy: 0.6107\n",
      "Epoch 7/10\n",
      "22/22 [==============================] - 0s 9ms/step - loss: 0.6777 - accuracy: 0.5764 - val_loss: 0.6837 - val_accuracy: 0.4899\n",
      "Epoch 8/10\n",
      "22/22 [==============================] - 0s 9ms/step - loss: 0.6669 - accuracy: 0.5879 - val_loss: 0.7287 - val_accuracy: 0.5101\n",
      "Epoch 9/10\n",
      "22/22 [==============================] - 0s 10ms/step - loss: 0.6534 - accuracy: 0.5908 - val_loss: 0.6520 - val_accuracy: 0.5705\n",
      "Epoch 10/10\n",
      "22/22 [==============================] - 0s 9ms/step - loss: 0.6434 - accuracy: 0.6138 - val_loss: 0.6412 - val_accuracy: 0.6376\n",
      "Run 12/10\n",
      "Epoch 1/10\n",
      "22/22 [==============================] - 1s 20ms/step - loss: 3.0232 - accuracy: 0.4784 - val_loss: 0.6940 - val_accuracy: 0.4899\n",
      "Epoch 2/10\n",
      "22/22 [==============================] - 0s 10ms/step - loss: 0.6998 - accuracy: 0.4928 - val_loss: 0.6934 - val_accuracy: 0.4899\n",
      "Epoch 3/10\n",
      "22/22 [==============================] - 0s 10ms/step - loss: 0.6939 - accuracy: 0.4899 - val_loss: 0.6935 - val_accuracy: 0.4899\n",
      "Epoch 4/10\n",
      "22/22 [==============================] - 0s 10ms/step - loss: 0.6936 - accuracy: 0.4726 - val_loss: 0.6931 - val_accuracy: 0.5101\n",
      "Epoch 5/10\n",
      "22/22 [==============================] - 0s 12ms/step - loss: 0.7122 - accuracy: 0.4784 - val_loss: 0.6933 - val_accuracy: 0.4899\n",
      "Epoch 6/10\n",
      "22/22 [==============================] - 0s 17ms/step - loss: 0.6932 - accuracy: 0.5043 - val_loss: 0.6930 - val_accuracy: 0.5101\n",
      "Epoch 7/10\n",
      "22/22 [==============================] - 0s 17ms/step - loss: 0.6953 - accuracy: 0.4755 - val_loss: 0.6930 - val_accuracy: 0.5101\n",
      "Epoch 8/10\n",
      "22/22 [==============================] - 0s 15ms/step - loss: 0.6938 - accuracy: 0.5101 - val_loss: 0.6932 - val_accuracy: 0.5101\n",
      "Epoch 9/10\n",
      "22/22 [==============================] - 0s 19ms/step - loss: 0.6935 - accuracy: 0.5101 - val_loss: 0.6930 - val_accuracy: 0.5101\n",
      "Epoch 10/10\n",
      "22/22 [==============================] - 0s 14ms/step - loss: 0.6932 - accuracy: 0.5101 - val_loss: 0.6929 - val_accuracy: 0.5101\n",
      "Run 13/10\n",
      "Epoch 1/10\n",
      "22/22 [==============================] - 1s 18ms/step - loss: 1.5493 - accuracy: 0.5331 - val_loss: 0.9346 - val_accuracy: 0.4899\n",
      "Epoch 2/10\n",
      "22/22 [==============================] - 0s 10ms/step - loss: 0.7613 - accuracy: 0.5303 - val_loss: 0.6627 - val_accuracy: 0.6242\n",
      "Epoch 3/10\n",
      "22/22 [==============================] - 0s 10ms/step - loss: 0.7153 - accuracy: 0.5706 - val_loss: 0.6626 - val_accuracy: 0.5638\n",
      "Epoch 4/10\n",
      "22/22 [==============================] - 0s 10ms/step - loss: 0.7008 - accuracy: 0.5476 - val_loss: 0.7269 - val_accuracy: 0.5168\n",
      "Epoch 5/10\n",
      "22/22 [==============================] - 0s 10ms/step - loss: 0.7101 - accuracy: 0.5879 - val_loss: 0.8717 - val_accuracy: 0.5101\n",
      "Epoch 6/10\n",
      "22/22 [==============================] - 0s 10ms/step - loss: 0.7106 - accuracy: 0.5418 - val_loss: 0.7466 - val_accuracy: 0.5101\n",
      "Epoch 7/10\n",
      "22/22 [==============================] - 0s 10ms/step - loss: 0.6588 - accuracy: 0.5850 - val_loss: 0.6378 - val_accuracy: 0.7047\n",
      "Epoch 8/10\n",
      "22/22 [==============================] - 0s 10ms/step - loss: 0.6521 - accuracy: 0.6052 - val_loss: 0.6328 - val_accuracy: 0.6577\n",
      "Epoch 9/10\n",
      "22/22 [==============================] - 0s 10ms/step - loss: 0.6157 - accuracy: 0.6686 - val_loss: 0.6361 - val_accuracy: 0.6174\n",
      "Epoch 10/10\n",
      "22/22 [==============================] - 0s 8ms/step - loss: 0.6315 - accuracy: 0.6196 - val_loss: 0.6079 - val_accuracy: 0.7248\n",
      "Run 14/10\n",
      "Epoch 1/10\n",
      "22/22 [==============================] - 1s 21ms/step - loss: 3.3181 - accuracy: 0.4899 - val_loss: 0.6905 - val_accuracy: 0.4832\n",
      "Epoch 2/10\n",
      "22/22 [==============================] - 0s 12ms/step - loss: 0.7830 - accuracy: 0.5159 - val_loss: 0.6898 - val_accuracy: 0.5168\n",
      "Epoch 3/10\n",
      "22/22 [==============================] - 0s 11ms/step - loss: 0.7007 - accuracy: 0.5014 - val_loss: 0.6880 - val_accuracy: 0.5235\n",
      "Epoch 4/10\n",
      "22/22 [==============================] - 0s 11ms/step - loss: 0.6897 - accuracy: 0.5303 - val_loss: 0.6909 - val_accuracy: 0.4899\n",
      "Epoch 5/10\n",
      "22/22 [==============================] - 0s 12ms/step - loss: 0.6864 - accuracy: 0.5303 - val_loss: 0.6904 - val_accuracy: 0.5168\n",
      "Epoch 6/10\n",
      "22/22 [==============================] - 0s 15ms/step - loss: 0.6873 - accuracy: 0.5389 - val_loss: 0.6955 - val_accuracy: 0.5168\n",
      "Epoch 7/10\n",
      "22/22 [==============================] - 0s 14ms/step - loss: 0.6872 - accuracy: 0.5562 - val_loss: 0.6823 - val_accuracy: 0.5839\n",
      "Epoch 8/10\n",
      "22/22 [==============================] - 0s 14ms/step - loss: 0.7030 - accuracy: 0.5072 - val_loss: 0.7012 - val_accuracy: 0.4899\n",
      "Epoch 9/10\n",
      "22/22 [==============================] - 0s 13ms/step - loss: 0.6806 - accuracy: 0.5648 - val_loss: 0.7017 - val_accuracy: 0.5168\n",
      "Epoch 10/10\n",
      "22/22 [==============================] - 0s 15ms/step - loss: 0.6922 - accuracy: 0.5331 - val_loss: 0.6862 - val_accuracy: 0.5302\n",
      "Run 15/10\n",
      "Epoch 1/10\n",
      "22/22 [==============================] - 1s 23ms/step - loss: 2.5400 - accuracy: 0.4582 - val_loss: 0.6904 - val_accuracy: 0.5034\n",
      "Epoch 2/10\n",
      "22/22 [==============================] - 0s 14ms/step - loss: 0.7152 - accuracy: 0.5620 - val_loss: 0.6994 - val_accuracy: 0.4899\n",
      "Epoch 3/10\n",
      "22/22 [==============================] - 0s 20ms/step - loss: 0.6913 - accuracy: 0.5389 - val_loss: 0.7645 - val_accuracy: 0.4899\n",
      "Epoch 4/10\n",
      "22/22 [==============================] - 0s 19ms/step - loss: 0.7185 - accuracy: 0.4813 - val_loss: 0.6832 - val_accuracy: 0.5235\n",
      "Epoch 5/10\n",
      "22/22 [==============================] - 0s 12ms/step - loss: 0.6804 - accuracy: 0.5447 - val_loss: 0.6762 - val_accuracy: 0.5638\n",
      "Epoch 6/10\n",
      "22/22 [==============================] - 0s 13ms/step - loss: 0.6831 - accuracy: 0.5677 - val_loss: 0.6977 - val_accuracy: 0.4899\n",
      "Epoch 7/10\n",
      "22/22 [==============================] - 0s 15ms/step - loss: 0.6986 - accuracy: 0.5274 - val_loss: 0.6840 - val_accuracy: 0.5235\n",
      "Epoch 8/10\n",
      "22/22 [==============================] - 0s 14ms/step - loss: 0.6877 - accuracy: 0.5303 - val_loss: 0.6885 - val_accuracy: 0.5168\n",
      "Epoch 9/10\n",
      "22/22 [==============================] - 0s 13ms/step - loss: 0.6915 - accuracy: 0.5303 - val_loss: 0.7065 - val_accuracy: 0.5101\n",
      "Epoch 10/10\n",
      "22/22 [==============================] - 0s 11ms/step - loss: 0.6991 - accuracy: 0.5274 - val_loss: 0.6948 - val_accuracy: 0.4899\n",
      "Run 16/10\n",
      "Epoch 1/10\n",
      "22/22 [==============================] - 1s 20ms/step - loss: 2.1376 - accuracy: 0.5303 - val_loss: 1.0257 - val_accuracy: 0.4899\n",
      "Epoch 2/10\n",
      "22/22 [==============================] - 0s 10ms/step - loss: 0.8218 - accuracy: 0.5216 - val_loss: 0.6652 - val_accuracy: 0.6711\n",
      "Epoch 3/10\n",
      "22/22 [==============================] - 0s 11ms/step - loss: 0.7046 - accuracy: 0.5821 - val_loss: 0.6685 - val_accuracy: 0.5570\n",
      "Epoch 4/10\n",
      "22/22 [==============================] - 0s 11ms/step - loss: 0.7404 - accuracy: 0.5389 - val_loss: 0.7421 - val_accuracy: 0.5101\n",
      "Epoch 5/10\n",
      "22/22 [==============================] - 0s 11ms/step - loss: 0.6890 - accuracy: 0.5793 - val_loss: 0.7796 - val_accuracy: 0.5101\n",
      "Epoch 6/10\n",
      "22/22 [==============================] - 0s 11ms/step - loss: 0.6838 - accuracy: 0.5937 - val_loss: 0.6711 - val_accuracy: 0.5503\n",
      "Epoch 7/10\n",
      "22/22 [==============================] - 0s 11ms/step - loss: 0.6641 - accuracy: 0.6023 - val_loss: 0.6625 - val_accuracy: 0.5906\n",
      "Epoch 8/10\n",
      "22/22 [==============================] - 0s 14ms/step - loss: 0.6810 - accuracy: 0.5648 - val_loss: 0.6511 - val_accuracy: 0.6846\n",
      "Epoch 9/10\n",
      "22/22 [==============================] - 0s 12ms/step - loss: 0.6519 - accuracy: 0.6254 - val_loss: 0.6543 - val_accuracy: 0.5906\n",
      "Epoch 10/10\n",
      "22/22 [==============================] - 0s 11ms/step - loss: 0.6548 - accuracy: 0.6081 - val_loss: 0.6593 - val_accuracy: 0.5705\n",
      "Run 17/10\n",
      "Epoch 1/10\n",
      "22/22 [==============================] - 1s 21ms/step - loss: 3.5687 - accuracy: 0.5159 - val_loss: 1.3678 - val_accuracy: 0.5101\n",
      "Epoch 2/10\n",
      "22/22 [==============================] - 0s 15ms/step - loss: 0.8583 - accuracy: 0.5331 - val_loss: 0.7517 - val_accuracy: 0.4899\n",
      "Epoch 3/10\n",
      "22/22 [==============================] - 0s 15ms/step - loss: 0.7591 - accuracy: 0.4957 - val_loss: 0.7083 - val_accuracy: 0.5101\n",
      "Epoch 4/10\n",
      "22/22 [==============================] - 0s 14ms/step - loss: 0.6927 - accuracy: 0.5072 - val_loss: 0.6850 - val_accuracy: 0.5235\n",
      "Epoch 5/10\n",
      "22/22 [==============================] - 0s 14ms/step - loss: 0.6838 - accuracy: 0.5418 - val_loss: 0.6804 - val_accuracy: 0.5436\n",
      "Epoch 6/10\n",
      "22/22 [==============================] - 0s 14ms/step - loss: 0.6828 - accuracy: 0.5706 - val_loss: 0.6771 - val_accuracy: 0.5906\n",
      "Epoch 7/10\n",
      "22/22 [==============================] - 0s 21ms/step - loss: 0.6669 - accuracy: 0.5908 - val_loss: 0.6853 - val_accuracy: 0.5235\n",
      "Epoch 8/10\n",
      "22/22 [==============================] - 0s 17ms/step - loss: 0.6637 - accuracy: 0.6023 - val_loss: 0.7151 - val_accuracy: 0.4899\n",
      "Epoch 9/10\n",
      "22/22 [==============================] - 0s 14ms/step - loss: 0.6842 - accuracy: 0.5648 - val_loss: 0.6730 - val_accuracy: 0.5570\n",
      "Epoch 10/10\n",
      "22/22 [==============================] - 0s 10ms/step - loss: 0.6658 - accuracy: 0.6167 - val_loss: 0.6775 - val_accuracy: 0.5168\n",
      "Run 18/10\n",
      "Epoch 1/10\n",
      "22/22 [==============================] - 1s 21ms/step - loss: 2.9028 - accuracy: 0.5130 - val_loss: 1.4497 - val_accuracy: 0.4899\n",
      "Epoch 2/10\n",
      "22/22 [==============================] - 0s 12ms/step - loss: 0.9147 - accuracy: 0.4496 - val_loss: 0.7292 - val_accuracy: 0.4899\n",
      "Epoch 3/10\n",
      "22/22 [==============================] - 0s 11ms/step - loss: 0.6801 - accuracy: 0.5533 - val_loss: 0.7052 - val_accuracy: 0.5101\n",
      "Epoch 4/10\n",
      "22/22 [==============================] - 0s 11ms/step - loss: 0.6932 - accuracy: 0.5159 - val_loss: 0.6903 - val_accuracy: 0.5369\n",
      "Epoch 5/10\n",
      "22/22 [==============================] - 0s 13ms/step - loss: 0.6836 - accuracy: 0.5677 - val_loss: 0.6983 - val_accuracy: 0.5168\n",
      "Epoch 6/10\n",
      "22/22 [==============================] - 0s 12ms/step - loss: 0.6938 - accuracy: 0.5245 - val_loss: 0.6884 - val_accuracy: 0.5503\n",
      "Epoch 7/10\n",
      "22/22 [==============================] - 0s 20ms/step - loss: 0.6805 - accuracy: 0.5620 - val_loss: 0.6896 - val_accuracy: 0.5369\n",
      "Epoch 8/10\n",
      "22/22 [==============================] - 0s 21ms/step - loss: 0.6880 - accuracy: 0.5533 - val_loss: 0.7023 - val_accuracy: 0.4899\n",
      "Epoch 9/10\n",
      "22/22 [==============================] - 0s 19ms/step - loss: 0.6762 - accuracy: 0.5793 - val_loss: 0.6949 - val_accuracy: 0.5235\n",
      "Epoch 10/10\n",
      "22/22 [==============================] - 0s 17ms/step - loss: 0.6645 - accuracy: 0.6311 - val_loss: 0.6824 - val_accuracy: 0.5168\n",
      "Run 19/10\n",
      "Epoch 1/10\n",
      "22/22 [==============================] - 1s 24ms/step - loss: 2.4356 - accuracy: 0.5014 - val_loss: 0.6976 - val_accuracy: 0.4899\n",
      "Epoch 2/10\n",
      "22/22 [==============================] - 0s 11ms/step - loss: 0.6973 - accuracy: 0.4928 - val_loss: 0.6954 - val_accuracy: 0.4899\n",
      "Epoch 3/10\n",
      "22/22 [==============================] - 0s 11ms/step - loss: 0.6951 - accuracy: 0.4870 - val_loss: 0.6935 - val_accuracy: 0.4899\n",
      "Epoch 4/10\n",
      "22/22 [==============================] - 0s 13ms/step - loss: 0.6935 - accuracy: 0.4899 - val_loss: 0.6933 - val_accuracy: 0.4899\n",
      "Epoch 5/10\n",
      "22/22 [==============================] - 0s 14ms/step - loss: 0.6934 - accuracy: 0.4986 - val_loss: 0.6929 - val_accuracy: 0.5101\n",
      "Epoch 6/10\n",
      "22/22 [==============================] - 0s 12ms/step - loss: 0.6932 - accuracy: 0.5101 - val_loss: 0.6930 - val_accuracy: 0.5101\n",
      "Epoch 7/10\n",
      "22/22 [==============================] - 0s 14ms/step - loss: 0.6905 - accuracy: 0.5101 - val_loss: 1.0525 - val_accuracy: 0.5101\n",
      "Epoch 8/10\n",
      "22/22 [==============================] - 0s 17ms/step - loss: 0.7057 - accuracy: 0.5014 - val_loss: 0.6937 - val_accuracy: 0.4899\n",
      "Epoch 9/10\n",
      "22/22 [==============================] - 0s 18ms/step - loss: 0.6936 - accuracy: 0.4899 - val_loss: 0.6934 - val_accuracy: 0.4899\n",
      "Epoch 10/10\n",
      "22/22 [==============================] - 0s 11ms/step - loss: 0.6933 - accuracy: 0.4928 - val_loss: 0.6930 - val_accuracy: 0.5101\n",
      "Run 20/10\n",
      "Epoch 1/10\n",
      "22/22 [==============================] - 1s 26ms/step - loss: 3.3111 - accuracy: 0.4784 - val_loss: 1.0832 - val_accuracy: 0.5101\n",
      "Epoch 2/10\n",
      "22/22 [==============================] - 0s 11ms/step - loss: 0.8383 - accuracy: 0.5245 - val_loss: 0.6782 - val_accuracy: 0.6376\n",
      "Epoch 3/10\n",
      "22/22 [==============================] - 0s 11ms/step - loss: 0.7229 - accuracy: 0.4928 - val_loss: 0.6957 - val_accuracy: 0.4899\n",
      "Epoch 4/10\n",
      "22/22 [==============================] - 0s 11ms/step - loss: 0.6875 - accuracy: 0.5735 - val_loss: 0.6901 - val_accuracy: 0.4899\n",
      "Epoch 5/10\n",
      "22/22 [==============================] - 0s 11ms/step - loss: 0.7285 - accuracy: 0.5274 - val_loss: 0.9074 - val_accuracy: 0.4899\n",
      "Epoch 6/10\n",
      "22/22 [==============================] - 0s 10ms/step - loss: 0.8071 - accuracy: 0.5014 - val_loss: 0.6930 - val_accuracy: 0.4899\n",
      "Epoch 7/10\n",
      "22/22 [==============================] - 0s 13ms/step - loss: 0.6796 - accuracy: 0.5879 - val_loss: 0.6939 - val_accuracy: 0.5168\n",
      "Epoch 8/10\n",
      "22/22 [==============================] - 0s 12ms/step - loss: 0.6685 - accuracy: 0.5648 - val_loss: 0.7135 - val_accuracy: 0.5101\n",
      "Epoch 9/10\n",
      "22/22 [==============================] - 0s 12ms/step - loss: 0.6877 - accuracy: 0.5706 - val_loss: 0.6696 - val_accuracy: 0.5436\n",
      "Epoch 10/10\n",
      "22/22 [==============================] - 0s 16ms/step - loss: 0.6451 - accuracy: 0.6225 - val_loss: 0.6332 - val_accuracy: 0.7181\n"
     ]
    }
   ],
   "source": [
    "import tensorflow as tf\n",
    "\n",
    "def create_classification_model(input_dim, num_classes, dropout_rate=0.2, learning_rate=1e-2):\n",
    "    classification_model = tf.keras.Sequential([\n",
    "        tf.keras.layers.InputLayer(input_shape=input_dim), \n",
    "        tf.keras.layers.GlobalAveragePooling1D(),  \n",
    "        tf.keras.layers.Dropout(dropout_rate),\n",
    "        tf.keras.layers.Dense(units=128, activation='relu'),\n",
    "        tf.keras.layers.Dense(units=num_classes, activation='softmax')\n",
    "    ])\n",
    "    optimizer = tf.keras.optimizers.AdamW(learning_rate=learning_rate, weight_decay=1e-3)\n",
    "    classification_model.compile(\n",
    "        optimizer=optimizer,\n",
    "        loss='sparse_categorical_crossentropy',\n",
    "        metrics=['accuracy']\n",
    "    )\n",
    "    return classification_model\n",
    "\n",
    "results = []\n",
    "for run in range(20):\n",
    "    print(f\"Run {run + 1}/10\")\n",
    "    \n",
    "    model = create_classification_model(input_dim=X_train.shape[1:], num_classes=len(np.unique(y_train)))\n",
    "\n",
    "    history = model.fit(\n",
    "        X_train, y_train,\n",
    "        validation_data=(X_test, y_test),\n",
    "        epochs=10,\n",
    "        batch_size=16,\n",
    "        verbose=1\n",
    "    )\n",
    "\n",
    "    results.append({\n",
    "        \"run\": run + 1,\n",
    "        \"accuracy\": history.history['val_accuracy'][-1],\n",
    "        \"loss\": history.history['loss'][-1]\n",
    "    })"
   ]
  },
  {
   "cell_type": "code",
   "execution_count": 154,
   "metadata": {},
   "outputs": [
    {
     "name": "stdout",
     "output_type": "stream",
     "text": [
      "Run 1: Accuracy = 0.5101, Loss = 0.6907\n",
      "Run 2: Accuracy = 0.5101, Loss = 0.6929\n",
      "Run 3: Accuracy = 0.6376, Loss = 0.6719\n",
      "Run 4: Accuracy = 0.5369, Loss = 0.6691\n",
      "Run 5: Accuracy = 0.5168, Loss = 0.6446\n",
      "Run 6: Accuracy = 0.5973, Loss = 0.6907\n",
      "Run 7: Accuracy = 0.5101, Loss = 0.6937\n",
      "Run 8: Accuracy = 0.5101, Loss = 0.6924\n",
      "Run 9: Accuracy = 0.5570, Loss = 0.6722\n",
      "Run 10: Accuracy = 0.5101, Loss = 0.6963\n",
      "Run 11: Accuracy = 0.6376, Loss = 0.6434\n",
      "Run 12: Accuracy = 0.5101, Loss = 0.6932\n",
      "Run 13: Accuracy = 0.7248, Loss = 0.6315\n",
      "Run 14: Accuracy = 0.5302, Loss = 0.6922\n",
      "Run 15: Accuracy = 0.4899, Loss = 0.6991\n",
      "Run 16: Accuracy = 0.5705, Loss = 0.6548\n",
      "Run 17: Accuracy = 0.5168, Loss = 0.6658\n",
      "Run 18: Accuracy = 0.5168, Loss = 0.6645\n",
      "Run 19: Accuracy = 0.5101, Loss = 0.6933\n",
      "Run 20: Accuracy = 0.7181, Loss = 0.6451\n"
     ]
    }
   ],
   "source": [
    "for res in results:\n",
    "    print(f\"Run {res['run']}: Accuracy = {res['accuracy']:.4f}, Loss = {res['loss']:.4f}\")"
   ]
  },
  {
   "cell_type": "code",
   "execution_count": 155,
   "metadata": {},
   "outputs": [
    {
     "data": {
      "text/plain": [
       "0.718120813369751"
      ]
     },
     "execution_count": 155,
     "metadata": {},
     "output_type": "execute_result"
    }
   ],
   "source": [
    "res['accuracy']"
   ]
  },
  {
   "cell_type": "code",
   "execution_count": 156,
   "metadata": {},
   "outputs": [
    {
     "name": "stdout",
     "output_type": "stream",
     "text": [
      "5/5 [==============================] - 0s 11ms/step\n"
     ]
    },
    {
     "data": {
      "image/png": "[encoded data removed]",
      "text/plain": [
       "<Figure size 640x480 with 2 Axes>"
      ]
     },
     "metadata": {},
     "output_type": "display_data"
    }
   ],
   "source": [
    "from sklearn.metrics import confusion_matrix, ConfusionMatrixDisplay\n",
    "import matplotlib.pyplot as plt\n",
    "\n",
    "y_pred_probs = model.predict(X_test)  \n",
    "y_pred = np.argmax(y_pred_probs, axis=1)  \n",
    "\n",
    "conf_matrix = confusion_matrix(y_test, y_pred)\n",
    "\n",
    "disp = ConfusionMatrixDisplay(confusion_matrix=conf_matrix, display_labels=np.unique(y_train))\n",
    "disp.plot(cmap=plt.cm.Blues)\n",
    "plt.title(\"Confusion Matrix\")\n",
    "plt.show()"
   ]
  },
  {
   "cell_type": "code",
   "execution_count": 158,
   "metadata": {},
   "outputs": [
    {
     "data": {
      "image/png": "[encoded data removed]",
      "text/plain": [
       "<Figure size 1200x500 with 2 Axes>"
      ]
     },
     "metadata": {},
     "output_type": "display_data"
    }
   ],
   "source": [
    "import matplotlib.pyplot as plt\n",
    "\n",
    "accuracies = [res['accuracy'] for res in results]\n",
    "losses = [res['loss'] for res in results]\n",
    "\n",
    "plt.figure(figsize=(12, 5))\n",
    "\n",
    "plt.subplot(1, 2, 1)\n",
    "plt.plot(range(1, len(accuracies) + 1), accuracies, marker='o')\n",
    "plt.title(\"Validation Accuracy per Run\")\n",
    "plt.xlabel(\"Run\")\n",
    "plt.ylabel(\"Accuracy\")\n",
    "\n",
    "plt.subplot(1, 2, 2)\n",
    "plt.plot(range(1, len(losses) + 1), losses, marker='o')\n",
    "plt.title(\"Training Loss per Run\")\n",
    "plt.xlabel(\"Run\")\n",
    "plt.ylabel(\"Loss\")\n",
    "\n",
    "plt.show()\n"
   ]
  }
 ],
 "metadata": {
  "kernelspec": {
   "display_name": "Python 3",
   "language": "python",
   "name": "python3"
  },
  "language_info": {
   "codemirror_mode": {
    "name": "ipython",
    "version": 3
   },
   "file_extension": ".py",
   "mimetype": "text/x-python",
   "name": "python",
   "nbconvert_exporter": "python",
   "pygments_lexer": "ipython3",
   "version": "3.8.20"
  }
 },
 "nbformat": 4,
 "nbformat_minor": 2
}
