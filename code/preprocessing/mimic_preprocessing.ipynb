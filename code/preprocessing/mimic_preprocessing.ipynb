{
 "cells": [
  {
   "cell_type": "code",
   "execution_count": 1,
   "metadata": {},
   "outputs": [],
   "source": [
    "import pandas as pd \n",
    "\n",
    "alzheimer = pd.read_csv('C:\\\\Users\\\\lclai\\\\Desktop\\\\data_dementia\\\\raw\\\\mimic_alzheimer.csv')\n",
    "dementia = pd.read_csv('C:\\\\Users\\\\lclai\\\\Desktop\\\\data_dementia\\\\raw\\\\mimic_dementia.csv')\n",
    "vital_signs = pd.read_csv('C:\\\\Users\\\\lclai\\\\Desktop\\\\data_dementia\\\\raw\\\\mimic_vitalsigns.csv')\n",
    "drugs = pd.read_csv('C:\\\\Users\\\\lclai\\\\Desktop\\\\data_dementia\\\\raw\\\\mimic_drugs.csv')\n"
   ]
  },
  {
   "cell_type": "code",
   "execution_count": 2,
   "metadata": {},
   "outputs": [],
   "source": [
    "data_alzheimer = pd.merge(alzheimer, drugs, on='SUBJECT_ID', how='left')\n",
    "data_dementia = pd.merge(dementia, drugs, on='SUBJECT_ID', how='left')"
   ]
  },
  {
   "cell_type": "code",
   "execution_count": 7,
   "metadata": {},
   "outputs": [],
   "source": [
    "df = pd.merge(data_dementia, vital_signs, on='HADM_ID', how='left')"
   ]
  },
  {
   "cell_type": "code",
   "execution_count": 9,
   "metadata": {},
   "outputs": [],
   "source": [
    "df = df.dropna()"
   ]
  },
  {
   "cell_type": "code",
   "execution_count": 11,
   "metadata": {},
   "outputs": [],
   "source": [
    "df = df.drop(columns=['SUBJECT_ID_y'])\n",
    "df = df.rename(columns={'SUBJECT_ID_x': 'SUBJECT_ID'})"
   ]
  },
  {
   "cell_type": "code",
   "execution_count": 14,
   "metadata": {},
   "outputs": [],
   "source": [
    "data_vitalsigns = df"
   ]
  },
  {
   "cell_type": "code",
   "execution_count": 15,
   "metadata": {},
   "outputs": [
    {
     "data": {
      "text/plain": [
       "Index(['SUBJECT_ID', 'AGE', 'GENDER', 'ALZHEIMER', 'HYPERTENSION',\n",
       "       'CORONARY_ATHEROSCLEROSIS', 'ATRIAL_FIBRILLATION', 'HEART_FAILURE',\n",
       "       'KIDNEY_FAILURE', 'HYPERLIPIDEMIA', 'DIABETES', 'RESPIRATORY_FAILURE',\n",
       "       'UTI', 'PROPHYLAXIS_VIRAL_HEPATITIS', 'OBSERVATION_INFECTIOUS',\n",
       "       'HYPERCHOLESTEROLEMIA', 'ESOPHAGEAL_REFLUX', 'ANEMIA', 'PNEUMONIA',\n",
       "       'POSTHEMORRHAGIC_ANEMIA', 'ACIDOSIS', 'HADM_ID',\n",
       "       'LAST_ADMISSION_LENGTH', 'ETHNICITY', 'MARITAL_STATUS',\n",
       "       'POTASSIUM_CHLORIDE', 'SODIUM_CHLORIDE_FLUSH', 'ACETAMINOPHEN',\n",
       "       'MAGNESIUM_SULFATE', 'INSULIN', 'HEPARIN', 'DOCUSATE_SODIUM', 'D5W',\n",
       "       'ISO_OSMOTIC_DEXTROSE', 'MORPHINE_SULFATE', 'NS', 'SW', 'FUROSEMIDE',\n",
       "       'CALCIUM_GLUCONATE', 'BISACODYL'],\n",
       "      dtype='object')"
      ]
     },
     "execution_count": 15,
     "metadata": {},
     "output_type": "execute_result"
    }
   ],
   "source": [
    "data_alzheimer.columns"
   ]
  },
  {
   "cell_type": "code",
   "execution_count": 16,
   "metadata": {},
   "outputs": [
    {
     "data": {
      "text/plain": [
       "Index(['SUBJECT_ID', 'AGE', 'GENDER', 'DEMENTIA', 'HYPERTENSION',\n",
       "       'CORONARY_ATHEROSCLEROSIS', 'ATRIAL_FIBRILLATION', 'HEART_FAILURE',\n",
       "       'KIDNEY_FAILURE', 'HYPERLIPIDEMIA', 'DIABETES', 'RESPIRATORY_FAILURE',\n",
       "       'UTI', 'PROPHYLAXIS_VIRAL_HEPATITIS', 'OBSERVATION_INFECTIOUS',\n",
       "       'HYPERCHOLESTEROLEMIA', 'ESOPHAGEAL_REFLUX', 'ANEMIA', 'PNEUMONIA',\n",
       "       'POSTHEMORRHAGIC_ANEMIA', 'ACIDOSIS', 'HADM_ID',\n",
       "       'LAST_ADMISSION_LENGTH', 'ETHNICITY', 'MARITAL_STATUS',\n",
       "       'POTASSIUM_CHLORIDE', 'SODIUM_CHLORIDE_FLUSH', 'ACETAMINOPHEN',\n",
       "       'MAGNESIUM_SULFATE', 'INSULIN', 'HEPARIN', 'DOCUSATE_SODIUM', 'D5W',\n",
       "       'ISO_OSMOTIC_DEXTROSE', 'MORPHINE_SULFATE', 'NS', 'SW', 'FUROSEMIDE',\n",
       "       'CALCIUM_GLUCONATE', 'BISACODYL'],\n",
       "      dtype='object')"
      ]
     },
     "execution_count": 16,
     "metadata": {},
     "output_type": "execute_result"
    }
   ],
   "source": [
    "data_dementia.columns"
   ]
  },
  {
   "cell_type": "code",
   "execution_count": 18,
   "metadata": {},
   "outputs": [
    {
     "data": {
      "text/plain": [
       "Index(['SUBJECT_ID', 'AGE', 'GENDER', 'DEMENTIA', 'HYPERTENSION',\n",
       "       'CORONARY_ATHEROSCLEROSIS', 'ATRIAL_FIBRILLATION', 'HEART_FAILURE',\n",
       "       'KIDNEY_FAILURE', 'HYPERLIPIDEMIA', 'DIABETES', 'RESPIRATORY_FAILURE',\n",
       "       'UTI', 'PROPHYLAXIS_VIRAL_HEPATITIS', 'OBSERVATION_INFECTIOUS',\n",
       "       'HYPERCHOLESTEROLEMIA', 'ESOPHAGEAL_REFLUX', 'ANEMIA', 'PNEUMONIA',\n",
       "       'POSTHEMORRHAGIC_ANEMIA', 'ACIDOSIS', 'HADM_ID',\n",
       "       'LAST_ADMISSION_LENGTH', 'ETHNICITY', 'MARITAL_STATUS',\n",
       "       'POTASSIUM_CHLORIDE', 'SODIUM_CHLORIDE_FLUSH', 'ACETAMINOPHEN',\n",
       "       'MAGNESIUM_SULFATE', 'INSULIN', 'HEPARIN', 'DOCUSATE_SODIUM', 'D5W',\n",
       "       'ISO_OSMOTIC_DEXTROSE', 'MORPHINE_SULFATE', 'NS', 'SW', 'FUROSEMIDE',\n",
       "       'CALCIUM_GLUCONATE', 'BISACODYL', 'HEART_RATE', 'RESPIRATORY_RATE',\n",
       "       'DIASTOLIC_BP', 'SYSTOLIC_BP', 'MEAN_BP', 'OXYGEN_SATURATION'],\n",
       "      dtype='object')"
      ]
     },
     "execution_count": 18,
     "metadata": {},
     "output_type": "execute_result"
    }
   ],
   "source": [
    "data_vitalsigns.columns"
   ]
  },
  {
   "cell_type": "code",
   "execution_count": 19,
   "metadata": {},
   "outputs": [],
   "source": [
    "data_dementia = data_dementia.drop(columns=['SUBJECT_ID', 'HADM_ID'])\n",
    "data_dementia['GENDER'] = data_dementia['GENDER'].map({'M': 1, 'F': 0})\n",
    "\n",
    "data_alzheimer = data_alzheimer.drop(columns=['SUBJECT_ID', 'HADM_ID'])\n",
    "data_alzheimer['GENDER'] = data_alzheimer['GENDER'].map({'M': 1, 'F': 0})\n",
    "\n",
    "data_vitalsigns = data_vitalsigns.drop(columns=['SUBJECT_ID', 'HADM_ID'])\n",
    "data_vitalsigns['GENDER'] = data_vitalsigns['GENDER'].map({'M': 1, 'F': 0})"
   ]
  },
  {
   "cell_type": "code",
   "execution_count": 22,
   "metadata": {},
   "outputs": [],
   "source": [
    "data_vitalsigns.to_csv('C:\\\\Users\\\\lclai\\\\Desktop\\\\data_dementia\\\\clean\\\\vitalsigns.csv', index=False)\n",
    "data_dementia.to_csv('C:\\\\Users\\\\lclai\\\\Desktop\\\\data_dementia\\\\clean\\\\dementia.csv', index=False)\n",
    "data_alzheimer.to_csv('C:\\\\Users\\\\lclai\\\\Desktop\\\\data_dementia\\\\clean\\\\alzheimer.csv', index=False)"
   ]
  }
 ],
 "metadata": {
  "kernelspec": {
   "display_name": "envlaia",
   "language": "python",
   "name": "python3"
  },
  "language_info": {
   "codemirror_mode": {
    "name": "ipython",
    "version": 3
   },
   "file_extension": ".py",
   "mimetype": "text/x-python",
   "name": "python",
   "nbconvert_exporter": "python",
   "pygments_lexer": "ipython3",
   "version": "3.12.2"
  }
 },
 "nbformat": 4,
 "nbformat_minor": 2
}
