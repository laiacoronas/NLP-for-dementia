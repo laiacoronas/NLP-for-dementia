{
 "cells": [
  {
   "cell_type": "code",
   "execution_count": 20,
   "metadata": {},
   "outputs": [
    {
     "name": "stdout",
     "output_type": "stream",
     "text": [
      "Last Hidden States Tensor Shape: (496, 1, 512, 768)\n",
      "Pooler Outputs Tensor Shape: (496, 1, 768)\n"
     ]
    }
   ],
   "source": [
    "import pandas as pd\n",
    "import tensorflow as tf\n",
    "from transformers import BertTokenizer, TFBertModel, BertConfig\n",
    "\n",
    "tokenizer = BertTokenizer.from_pretrained(\"bert-base-uncased\")\n",
    "custom_config = BertConfig(\n",
    "    vocab_size=30522,               \n",
    "    num_attention_heads=12,        \n",
    "    num_hidden_layers=12,          \n",
    "    attention_probs_dropout_prob=0.1,  \n",
    "    hidden_size=768,               \n",
    "    intermediate_size=3072,        \n",
    "    hidden_dropout_prob=0.1,       \n",
    "    hidden_act=\"relu\",             \n",
    "    max_position_embeddings=512    \n",
    ")\n",
    "bert_model = TFBertModel(custom_config)\n",
    "\n",
    "data = pd.read_csv(\"C:\\\\Users\\\\lclai\\\\Desktop\\\\data_dementia\\\\clean\\\\pitt_withoutwords.csv\")\n",
    "data = data[[\"label\", \"clean_transcripts\"]]\n",
    "\n",
    "data = data[(data['label'] == 0) | (data['label'] == 1)]\n",
    "\n",
    "def preprocess_and_get_bert_embeddings(text, tokenizer, model, max_length=512):\n",
    "    inputs = tokenizer(\n",
    "        text,\n",
    "        return_tensors=\"tf\",\n",
    "        padding='max_length',  \n",
    "        truncation=True,\n",
    "        max_length=max_length\n",
    "    )\n",
    "    \n",
    "    bert_outputs = model(**inputs)\n",
    "    return bert_outputs.last_hidden_state, bert_outputs.pooler_output \n",
    "\n",
    "input_ids = []\n",
    "attention_masks = []\n",
    "last_hidden_states = []\n",
    "pooler_outputs = []\n",
    "\n",
    "for text in data['clean_transcripts']:\n",
    "    last_hidden_state, pooler_output = preprocess_and_get_bert_embeddings(text, tokenizer, bert_model)\n",
    "    last_hidden_states.append(last_hidden_state.numpy())  \n",
    "    pooler_outputs.append(pooler_output.numpy())\n",
    "\n",
    "last_hidden_states_tensor = tf.convert_to_tensor(last_hidden_states, dtype=tf.float32)\n",
    "pooler_outputs_tensor = tf.convert_to_tensor(pooler_outputs, dtype=tf.float32)\n",
    "\n",
    "print(f\"Last Hidden States Tensor Shape: {last_hidden_states_tensor.shape}\")\n",
    "print(f\"Pooler Outputs Tensor Shape: {pooler_outputs_tensor.shape}\")\n"
   ]
  },
  {
   "cell_type": "code",
   "execution_count": 21,
   "metadata": {},
   "outputs": [],
   "source": [
    "from sklearn.preprocessing import LabelEncoder\n",
    "import numpy as np\n",
    "\n",
    "df = pd.read_csv(\"C:\\\\Users\\\\lclai\\\\Desktop\\\\data_dementia\\\\clean\\\\pitt_withoutwords.csv\")\n",
    "df = df[(df['label'] == 0) | (df['label'] == 1)]\n",
    "df = df[[\"sex\",\"age\",\"label\"]]\n",
    "df[\"sex\"] = df[\"sex\"].map({\"M\": 0, \"F\": 1})  \n",
    "X_numeric = df[[\"age\", \"sex\"]].values  \n",
    "\n",
    "X_bert = last_hidden_states_tensor[:, 0, :].numpy()"
   ]
  },
  {
   "cell_type": "code",
   "execution_count": 22,
   "metadata": {},
   "outputs": [],
   "source": [
    "bert_pooled = np.mean(X_bert, axis=1)  # Reduce a (496, 768)\n",
    "X_train = np.hstack((X_numeric, bert_pooled))"
   ]
  },
  {
   "cell_type": "code",
   "execution_count": 23,
   "metadata": {},
   "outputs": [],
   "source": [
    "y = df['label']"
   ]
  },
  {
   "cell_type": "code",
   "execution_count": 24,
   "metadata": {},
   "outputs": [
    {
     "name": "stdout",
     "output_type": "stream",
     "text": [
      "Model: Random Forest\n",
      "Best Params: {'max_depth': 10, 'min_samples_leaf': 2, 'min_samples_split': 10, 'n_estimators': 200}\n",
      "Mean AUC: 0.8422\n",
      "\n",
      "Model: XGBoost\n",
      "Best Params: {'learning_rate': 0.1, 'max_depth': 3, 'n_estimators': 200, 'subsample': 0.8}\n",
      "Mean AUC: 0.8480\n",
      "\n"
     ]
    }
   ],
   "source": [
    "from sklearn.model_selection import train_test_split\n",
    "from sklearn.model_selection import GridSearchCV\n",
    "from sklearn.linear_model import LogisticRegression\n",
    "from sklearn.ensemble import RandomForestClassifier\n",
    "import xgboost as xgb\n",
    "from sklearn.metrics import roc_auc_score\n",
    "\n",
    "models = {\n",
    "    'Random Forest': RandomForestClassifier(random_state=42),\n",
    "    'XGBoost': xgb.XGBClassifier(random_state=42)\n",
    "}\n",
    "\n",
    "param_grids = {\n",
    "    'Random Forest': {\n",
    "        'n_estimators': [50, 100, 200], \n",
    "        'max_depth': [None, 10, 20], \n",
    "        'min_samples_split': [2, 5, 10],\n",
    "        'min_samples_leaf': [1, 2, 4],  \n",
    "    },\n",
    "    'XGBoost': {\n",
    "        'n_estimators': [50, 100, 200],  \n",
    "        'learning_rate': [0.01, 0.1, 0.2], \n",
    "        'max_depth': [3, 6, 10],\n",
    "        'subsample': [0.8, 1.0], \n",
    "    }\n",
    "}\n",
    "\n",
    "results = {}\n",
    "\n",
    "for model_name in models:\n",
    "    model = models[model_name]\n",
    "    param_grid = param_grids[model_name]\n",
    "    \n",
    "    grid_search = GridSearchCV(estimator=model, param_grid=param_grid, cv=5, scoring='roc_auc', n_jobs=-1)\n",
    "    \n",
    "    grid_search.fit(X_train, y)\n",
    "    \n",
    "    best_model = grid_search.best_estimator_\n",
    "\n",
    "    auc = grid_search.best_score_\n",
    "    \n",
    "    results[model_name] = {\n",
    "        'best_params': grid_search.best_params_,\n",
    "        'mean_auc': auc\n",
    "    }\n",
    "\n",
    "for model_name, result in results.items():\n",
    "    print(f\"Model: {model_name}\")\n",
    "    print(f\"Best Params: {result['best_params']}\")\n",
    "    print(f\"Mean AUC: {result['mean_auc']:.4f}\\n\")"
   ]
  },
  {
   "cell_type": "code",
   "execution_count": 25,
   "metadata": {},
   "outputs": [
    {
     "name": "stdout",
     "output_type": "stream",
     "text": [
      "Fold AUC Score: 0.8647\n",
      "Fold AUC Score: 0.9184\n",
      "Fold AUC Score: 0.8208\n",
      "Fold AUC Score: 0.9085\n",
      "Fold AUC Score: 0.8268\n",
      "\n",
      "Mean AUC Score (XGBoost + RF, 5-fold CV): 0.8678 ± 0.0403\n"
     ]
    }
   ],
   "source": [
    "import numpy as np\n",
    "import xgboost as xgb\n",
    "from sklearn.ensemble import RandomForestClassifier\n",
    "from sklearn.metrics import roc_auc_score\n",
    "from sklearn.model_selection import StratifiedKFold\n",
    "\n",
    "y = np.array(y)\n",
    "\n",
    "n_splits = 5 \n",
    "kf = StratifiedKFold(n_splits=n_splits, shuffle=True, random_state=42)\n",
    "\n",
    "auc_scores = []\n",
    "\n",
    "for train_idx, val_idx in kf.split(X_train, y):\n",
    "    X_train_fold, X_val_fold = X_train[train_idx], X_train[val_idx]\n",
    "    y_train_fold, y_val_fold = y[train_idx], y[val_idx]\n",
    "    \n",
    "    xgb_clf = xgb.XGBClassifier(\n",
    "        n_estimators=200, max_depth=3, learning_rate=0.1, subsample=0.8,\n",
    "        random_state=42\n",
    "    )\n",
    "    xgb_clf.fit(X_train_fold, y_train_fold)\n",
    "    pred_xgb = xgb_clf.predict_proba(X_val_fold)[:, 1]\n",
    "    \n",
    "    rf_clf = RandomForestClassifier(\n",
    "        n_estimators=200, max_depth=None, min_samples_split=5, min_samples_leaf=2,\n",
    "        max_features=\"sqrt\", random_state=42\n",
    "    )\n",
    "    rf_clf.fit(X_train_fold, y_train_fold)\n",
    "    pred_rf = rf_clf.predict_proba(X_val_fold)[:, 1]\n",
    "    \n",
    "    y_pred_proba_avg = (pred_xgb + pred_rf) / 2\n",
    "    auc_score = roc_auc_score(y_val_fold, y_pred_proba_avg)\n",
    "    \n",
    "    auc_scores.append(auc_score)\n",
    "    print(f\"Fold AUC Score: {auc_score:.4f}\")\n",
    "\n",
    "print(f\"\\nMean AUC Score (XGBoost + RF, {n_splits}-fold CV): {np.mean(auc_scores):.4f} ± {np.std(auc_scores):.4f}\")\n"
   ]
  },
  {
   "cell_type": "code",
   "execution_count": 26,
   "metadata": {},
   "outputs": [
    {
     "name": "stderr",
     "output_type": "stream",
     "text": [
      "c:\\Users\\lclai\\Desktop\\NLP-for-dementia\\.conda\\lib\\site-packages\\sklearn\\linear_model\\_logistic.py:460: ConvergenceWarning: lbfgs failed to converge (status=1):\n",
      "STOP: TOTAL NO. of ITERATIONS REACHED LIMIT.\n",
      "\n",
      "Increase the number of iterations (max_iter) or scale the data as shown in:\n",
      "    https://scikit-learn.org/stable/modules/preprocessing.html\n",
      "Please also refer to the documentation for alternative solver options:\n",
      "    https://scikit-learn.org/stable/modules/linear_model.html#logistic-regression\n",
      "  n_iter_i = _check_optimize_result(\n",
      "c:\\Users\\lclai\\Desktop\\NLP-for-dementia\\.conda\\lib\\site-packages\\sklearn\\linear_model\\_logistic.py:460: ConvergenceWarning: lbfgs failed to converge (status=1):\n",
      "STOP: TOTAL NO. of ITERATIONS REACHED LIMIT.\n",
      "\n",
      "Increase the number of iterations (max_iter) or scale the data as shown in:\n",
      "    https://scikit-learn.org/stable/modules/preprocessing.html\n",
      "Please also refer to the documentation for alternative solver options:\n",
      "    https://scikit-learn.org/stable/modules/linear_model.html#logistic-regression\n",
      "  n_iter_i = _check_optimize_result(\n",
      "c:\\Users\\lclai\\Desktop\\NLP-for-dementia\\.conda\\lib\\site-packages\\sklearn\\linear_model\\_logistic.py:460: ConvergenceWarning: lbfgs failed to converge (status=1):\n",
      "STOP: TOTAL NO. of ITERATIONS REACHED LIMIT.\n",
      "\n",
      "Increase the number of iterations (max_iter) or scale the data as shown in:\n",
      "    https://scikit-learn.org/stable/modules/preprocessing.html\n",
      "Please also refer to the documentation for alternative solver options:\n",
      "    https://scikit-learn.org/stable/modules/linear_model.html#logistic-regression\n",
      "  n_iter_i = _check_optimize_result(\n",
      "c:\\Users\\lclai\\Desktop\\NLP-for-dementia\\.conda\\lib\\site-packages\\sklearn\\linear_model\\_logistic.py:460: ConvergenceWarning: lbfgs failed to converge (status=1):\n",
      "STOP: TOTAL NO. of ITERATIONS REACHED LIMIT.\n",
      "\n",
      "Increase the number of iterations (max_iter) or scale the data as shown in:\n",
      "    https://scikit-learn.org/stable/modules/preprocessing.html\n",
      "Please also refer to the documentation for alternative solver options:\n",
      "    https://scikit-learn.org/stable/modules/linear_model.html#logistic-regression\n",
      "  n_iter_i = _check_optimize_result(\n"
     ]
    },
    {
     "name": "stdout",
     "output_type": "stream",
     "text": [
      "Mean AUC Score (Softmax CV): 0.8867\n"
     ]
    },
    {
     "name": "stderr",
     "output_type": "stream",
     "text": [
      "c:\\Users\\lclai\\Desktop\\NLP-for-dementia\\.conda\\lib\\site-packages\\sklearn\\linear_model\\_logistic.py:460: ConvergenceWarning: lbfgs failed to converge (status=1):\n",
      "STOP: TOTAL NO. of ITERATIONS REACHED LIMIT.\n",
      "\n",
      "Increase the number of iterations (max_iter) or scale the data as shown in:\n",
      "    https://scikit-learn.org/stable/modules/preprocessing.html\n",
      "Please also refer to the documentation for alternative solver options:\n",
      "    https://scikit-learn.org/stable/modules/linear_model.html#logistic-regression\n",
      "  n_iter_i = _check_optimize_result(\n"
     ]
    }
   ],
   "source": [
    "from sklearn.model_selection import StratifiedKFold\n",
    "from sklearn.linear_model import LogisticRegression\n",
    "from sklearn.metrics import roc_auc_score\n",
    "import numpy as np\n",
    "\n",
    "kf = StratifiedKFold(n_splits=5, shuffle=True, random_state=42)\n",
    "\n",
    "auc_scores = []\n",
    "\n",
    "for train_idx, val_idx in kf.split(X_train, y):\n",
    "    X_train_fold, X_val_fold = X_train[train_idx], X_train[val_idx]\n",
    "    y_train_fold, y_val_fold = y[train_idx], y[val_idx]\n",
    "    \n",
    "    softmax = LogisticRegression(multi_class='multinomial', solver='lbfgs', C=1, max_iter=200, random_state=42)\n",
    "    softmax.fit(X_train_fold, y_train_fold)\n",
    "    \n",
    "    y_val_proba = softmax.predict_proba(X_val_fold)[:, 1]\n",
    "\n",
    "\n",
    "    auc = roc_auc_score(y_val_fold, y_val_proba)\n",
    "    auc_scores.append(auc)\n",
    "\n",
    "mean_auc = np.mean(auc_scores)\n",
    "\n",
    "print(f\"Mean AUC Score (Softmax CV): {mean_auc:.4f}\")\n"
   ]
  },
  {
   "cell_type": "code",
   "execution_count": 2,
   "metadata": {},
   "outputs": [],
   "source": [
    "class TextCNN(tf.keras.Model):\n",
    "    def __init__(self, dropout_prob=0.5):\n",
    "        super(TextCNN, self).__init__()\n",
    "        \n",
    "        # convolution kernels\n",
    "        self.conv1 = tf.keras.layers.Conv2D(130, (5, 768), activation='relu')\n",
    "        self.conv2 = tf.keras.layers.Conv2D(130, (10, 768), activation='relu')\n",
    "        self.conv3 = tf.keras.layers.Conv2D(130, (15, 768), activation='relu')\n",
    "        self.conv4 = tf.keras.layers.Conv2D(130, (20, 768), activation='relu')\n",
    "\n",
    "        # max pooling\n",
    "        self.pool = tf.keras.layers.GlobalMaxPooling2D()\n",
    "\n",
    "        # fusion layer\n",
    "        self.fc = tf.keras.layers.Dense(260, activation='relu')\n",
    "        self.dropout = tf.keras.layers.Dropout(dropout_prob)\n",
    "\n",
    "    def call(self, inputs):\n",
    "        # input the output of the bert model\n",
    "        x = tf.expand_dims(inputs, -1) \n",
    "    \n",
    "        x1 = self.conv1(x)\n",
    "        x2 = self.conv2(x)\n",
    "        x3 = self.conv3(x)\n",
    "        x4 = self.conv4(x)\n",
    "        \n",
    "        # pool the outputs of the convolution layers \n",
    "        pooled_1 = self.pool(x1)\n",
    "        pooled_2 = self.pool(x2)\n",
    "        pooled_3 = self.pool(x3)\n",
    "        pooled_4 = self.pool(x4)\n",
    "        \n",
    "        # fusion of all the features\n",
    "        fused_features = tf.concat([pooled_1, pooled_2, pooled_3, pooled_4], axis=-1)\n",
    "\n",
    "        feature_vector = self.fc(fused_features)\n",
    "        feature_vector = self.dropout(feature_vector)\n",
    "        \n",
    "        return feature_vector\n",
    "\n",
    "textcnn_model = TextCNN()"
   ]
  },
  {
   "cell_type": "code",
   "execution_count": 3,
   "metadata": {},
   "outputs": [],
   "source": [
    "import numpy as np\n",
    "from sklearn.model_selection import train_test_split\n",
    "\n",
    "X = last_hidden_states_tensor[:, 0, :].numpy()\n",
    "y = data['label'].values\n",
    "\n",
    "def obtain_features(sample):\n",
    "    sample_with_batch_dim = tf.expand_dims(sample, axis=0)  # (1, 512, 768)\n",
    "    sample_cnn = textcnn_model(sample_with_batch_dim)  # (1, features_cnn)\n",
    "    return sample_cnn.numpy().squeeze()  "
   ]
  },
  {
   "cell_type": "code",
   "execution_count": 4,
   "metadata": {},
   "outputs": [],
   "source": [
    "import numpy as np\n",
    "\n",
    "X_features = []\n",
    "\n",
    "for i in range(X.shape[0]):  \n",
    "    X_features.append(obtain_features(X[i])) \n",
    "\n",
    "X_def = np.array(X_features)"
   ]
  },
  {
   "cell_type": "code",
   "execution_count": 5,
   "metadata": {},
   "outputs": [
    {
     "data": {
      "text/plain": [
       "(496, 260)"
      ]
     },
     "execution_count": 5,
     "metadata": {},
     "output_type": "execute_result"
    }
   ],
   "source": [
    "X_def.shape"
   ]
  },
  {
   "cell_type": "code",
   "execution_count": 6,
   "metadata": {},
   "outputs": [
    {
     "data": {
      "text/plain": [
       "(496, 2)"
      ]
     },
     "execution_count": 6,
     "metadata": {},
     "output_type": "execute_result"
    }
   ],
   "source": [
    "data.shape"
   ]
  },
  {
   "cell_type": "code",
   "execution_count": 20,
   "metadata": {},
   "outputs": [
    {
     "name": "stdout",
     "output_type": "stream",
     "text": [
      "Best parameters: {'max_depth': 30, 'max_features': 'sqrt', 'max_samples': 0.8, 'min_samples_leaf': 1, 'min_samples_split': 5, 'n_estimators': 1000}\n",
      "Best cross-validation AUC: 0.7366\n"
     ]
    }
   ],
   "source": [
    "import pandas as pd\n",
    "from sklearn.feature_extraction.text import TfidfVectorizer\n",
    "from sklearn.ensemble import RandomForestClassifier\n",
    "from sklearn.model_selection import cross_val_score, GridSearchCV\n",
    "from sklearn.metrics import roc_auc_score\n",
    "import numpy as np\n",
    "\n",
    "clf = RandomForestClassifier(random_state=42)\n",
    "\n",
    "param_grid = {\n",
    "    'n_estimators': [500, 1000],  \n",
    "    'max_depth': [10, 30, 50],  \n",
    "    'min_samples_split': [2, 5, 10],  \n",
    "    'min_samples_leaf': [1, 5, 8],  \n",
    "    'max_features': ['sqrt'],  \n",
    "    'max_samples': [0.8, 0.9], \n",
    "   \n",
    "}\n",
    "\n",
    "grid_search = GridSearchCV(clf, param_grid, cv=5, scoring='roc_auc', n_jobs=-1)\n",
    "grid_search.fit(p, y)\n",
    "\n",
    "best_clf = grid_search.best_estimator_\n",
    "y_pred_proba = best_clf.predict_proba(X)[:, 1]\n",
    "auc_score = roc_auc_score(y, y_pred_proba)\n",
    "\n",
    "print(f\"Best parameters: {grid_search.best_params_}\")\n",
    "print(f\"cross-validation AUC: {grid_search.best_score_:.4f}\")\n"
   ]
  },
  {
   "cell_type": "code",
   "execution_count": 22,
   "metadata": {},
   "outputs": [
    {
     "name": "stdout",
     "output_type": "stream",
     "text": [
      "Collecting xgboost\n",
      "  Using cached xgboost-2.1.3-py3-none-win_amd64.whl.metadata (2.1 kB)\n",
      "Requirement already satisfied: numpy in c:\\users\\lclai\\desktop\\nlp-for-dementia\\.conda\\lib\\site-packages (from xgboost) (1.24.3)\n",
      "Requirement already satisfied: scipy in c:\\users\\lclai\\desktop\\nlp-for-dementia\\.conda\\lib\\site-packages (from xgboost) (1.10.1)\n",
      "Using cached xgboost-2.1.3-py3-none-win_amd64.whl (124.9 MB)\n",
      "Installing collected packages: xgboost\n",
      "Successfully installed xgboost-2.1.3\n",
      "Note: you may need to restart the kernel to use updated packages.\n"
     ]
    }
   ],
   "source": [
    "pip install xgboost"
   ]
  },
  {
   "cell_type": "code",
   "execution_count": 23,
   "metadata": {},
   "outputs": [
    {
     "name": "stderr",
     "output_type": "stream",
     "text": [
      "c:\\Users\\lclai\\Desktop\\NLP-for-dementia\\.conda\\lib\\site-packages\\xgboost\\core.py:158: UserWarning: [13:30:23] WARNING: C:\\buildkite-agent\\builds\\buildkite-windows-cpu-autoscaling-group-i-0c55ff5f71b100e98-1\\xgboost\\xgboost-ci-windows\\src\\learner.cc:740: \n",
      "Parameters: { \"use_label_encoder\" } are not used.\n",
      "\n",
      "  warnings.warn(smsg, UserWarning)\n",
      "c:\\Users\\lclai\\Desktop\\NLP-for-dementia\\.conda\\lib\\site-packages\\xgboost\\core.py:158: UserWarning: [13:30:24] WARNING: C:\\buildkite-agent\\builds\\buildkite-windows-cpu-autoscaling-group-i-0c55ff5f71b100e98-1\\xgboost\\xgboost-ci-windows\\src\\learner.cc:740: \n",
      "Parameters: { \"use_label_encoder\" } are not used.\n",
      "\n",
      "  warnings.warn(smsg, UserWarning)\n",
      "c:\\Users\\lclai\\Desktop\\NLP-for-dementia\\.conda\\lib\\site-packages\\xgboost\\core.py:158: UserWarning: [13:30:26] WARNING: C:\\buildkite-agent\\builds\\buildkite-windows-cpu-autoscaling-group-i-0c55ff5f71b100e98-1\\xgboost\\xgboost-ci-windows\\src\\learner.cc:740: \n",
      "Parameters: { \"use_label_encoder\" } are not used.\n",
      "\n",
      "  warnings.warn(smsg, UserWarning)\n",
      "c:\\Users\\lclai\\Desktop\\NLP-for-dementia\\.conda\\lib\\site-packages\\xgboost\\core.py:158: UserWarning: [13:30:28] WARNING: C:\\buildkite-agent\\builds\\buildkite-windows-cpu-autoscaling-group-i-0c55ff5f71b100e98-1\\xgboost\\xgboost-ci-windows\\src\\learner.cc:740: \n",
      "Parameters: { \"use_label_encoder\" } are not used.\n",
      "\n",
      "  warnings.warn(smsg, UserWarning)\n",
      "c:\\Users\\lclai\\Desktop\\NLP-for-dementia\\.conda\\lib\\site-packages\\xgboost\\core.py:158: UserWarning: [13:30:29] WARNING: C:\\buildkite-agent\\builds\\buildkite-windows-cpu-autoscaling-group-i-0c55ff5f71b100e98-1\\xgboost\\xgboost-ci-windows\\src\\learner.cc:740: \n",
      "Parameters: { \"use_label_encoder\" } are not used.\n",
      "\n",
      "  warnings.warn(smsg, UserWarning)\n",
      "c:\\Users\\lclai\\Desktop\\NLP-for-dementia\\.conda\\lib\\site-packages\\xgboost\\core.py:158: UserWarning: [13:30:31] WARNING: C:\\buildkite-agent\\builds\\buildkite-windows-cpu-autoscaling-group-i-0c55ff5f71b100e98-1\\xgboost\\xgboost-ci-windows\\src\\learner.cc:740: \n",
      "Parameters: { \"use_label_encoder\" } are not used.\n",
      "\n",
      "  warnings.warn(smsg, UserWarning)\n"
     ]
    },
    {
     "name": "stdout",
     "output_type": "stream",
     "text": [
      "[[169  74]\n",
      " [ 84 169]]\n",
      "              precision    recall  f1-score   support\n",
      "\n",
      "           0       0.67      0.70      0.68       243\n",
      "           1       0.70      0.67      0.68       253\n",
      "\n",
      "    accuracy                           0.68       496\n",
      "   macro avg       0.68      0.68      0.68       496\n",
      "weighted avg       0.68      0.68      0.68       496\n",
      "\n",
      "Best parameters: {'gamma': 0.1, 'learning_rate': 0.3, 'max_depth': 5, 'n_estimators': 500, 'subsample': 0.8}\n",
      "Best cross-validation AUC: 0.7210\n"
     ]
    }
   ],
   "source": [
    "# XGBOOST\n",
    "\n",
    "import pandas as pd\n",
    "import numpy as np\n",
    "import matplotlib.pyplot as plt\n",
    "from sklearn.feature_extraction.text import TfidfVectorizer\n",
    "from xgboost import XGBClassifier\n",
    "from sklearn.model_selection import GridSearchCV, cross_val_predict\n",
    "from sklearn.preprocessing import LabelEncoder\n",
    "from sklearn.metrics import confusion_matrix, classification_report\n",
    "\n",
    "# Definir el modelo XGBoost\n",
    "clf = XGBClassifier(use_label_encoder=False, eval_metric=\"logloss\", random_state=42)\n",
    "\n",
    "# Definir el espacio de búsqueda de hiperparámetros\n",
    "param_grid = {\n",
    "    'n_estimators': [300, 500],  # Número de árboles\n",
    "    'max_depth': [3, 5],  # Profundidad máxima del árbol\n",
    "    'learning_rate': [0.01, 0.1, 0.3],  # Tasa de aprendizaje\n",
    "    'subsample': [0.8, 1.0],  # Submuestreo de los datos\n",
    "    'gamma': [0.1, 0.3]  # Poda para reducir sobreajuste\n",
    "}\n",
    "\n",
    "# Ajuste de hiperparámetros con validación cruzada\n",
    "grid_search = GridSearchCV(clf, param_grid, cv=5, scoring='roc_auc', n_jobs=-1)\n",
    "grid_search.fit(X, y)\n",
    "\n",
    "# Obtener el mejor modelo\n",
    "best_clf = grid_search.best_estimator_\n",
    "\n",
    "# Hacer predicciones con validación cruzada\n",
    "y_pred = cross_val_predict(best_clf, X, y, cv=5)\n",
    "\n",
    "# Calcular matriz de confusión\n",
    "conf_matrix = confusion_matrix(y, y_pred)\n",
    "\n",
    "print(conf_matrix)\n",
    "\n",
    "# Reporte de clasificación\n",
    "print(classification_report(y, y_pred))\n",
    "\n",
    "# Mostrar los mejores hiperparámetros encontrados\n",
    "print(f\"Best parameters: {grid_search.best_params_}\")\n",
    "print(f\"Best cross-validation AUC: {grid_search.best_score_:.4f}\")"
   ]
  }
 ],
 "metadata": {
  "kernelspec": {
   "display_name": "Python 3",
   "language": "python",
   "name": "python3"
  },
  "language_info": {
   "codemirror_mode": {
    "name": "ipython",
    "version": 3
   },
   "file_extension": ".py",
   "mimetype": "text/x-python",
   "name": "python",
   "nbconvert_exporter": "python",
   "pygments_lexer": "ipython3",
   "version": "3.8.20"
  }
 },
 "nbformat": 4,
 "nbformat_minor": 2
}
