{
 "cells": [
  {
   "cell_type": "code",
   "execution_count": 14,
   "metadata": {},
   "outputs": [
    {
     "name": "stdout",
     "output_type": "stream",
     "text": [
      "Error: You exceeded your current quota, please check your plan and billing details. For more information on this error, read the docs: https://platform.openai.com/docs/guides/error-codes/api-errors.\n",
      "Predicción GPT-4: None\n"
     ]
    }
   ],
   "source": [
    "import openai\n",
    "import pandas as pd\n",
    "import numpy as np\n",
    "from sklearn.model_selection import train_test_split\n",
    "from sklearn.preprocessing import LabelEncoder\n",
    "from sklearn.ensemble import RandomForestClassifier\n",
    "\n",
    "# API Key de OpenAI\n",
    "openai.api_key = \n",
    "\n",
    "def predict_dementia_risk(age, gender, text):\n",
    "    prompt = f\"\"\"Classify patients into the following categories according to age, sex, and their transcripts describing a certain scene: \n",
    "    - Dementia\n",
    "    - No dementia\n",
    "\n",
    "    Age: {age}\n",
    "    Gender: {\"Female\" if gender == 1 else \"Male\"}\n",
    "    Text: \"{text}\"\n",
    "\n",
    "    Answer:\"\"\"\n",
    "\n",
    "    try:\n",
    "        response = openai.Completion.create(\n",
    "            model=\"babbage-002\",  \n",
    "            prompt=prompt,\n",
    "            max_tokens=100\n",
    "        )\n",
    "        return response[\"choices\"][0][\"text\"].strip()\n",
    "    except Exception as e:\n",
    "        print(f\"Error: {e}\")\n",
    "        return None\n",
    "\n",
    "\n",
    "df = pd.read_csv(\"C:\\\\Users\\\\lclai\\\\Desktop\\\\transcripts_cleaned.csv\")\n",
    "df = df[(df['label'] == 0) | (df['label'] == 1)]\n",
    "\n",
    "df[\"sex\"] = df[\"sex\"].map({\"M\": 0, \"F\": 1})\n",
    "\n",
    "X = df[[\"age\", \"sex\", \"clean_transcripts\"]]\n",
    "y = LabelEncoder().fit_transform(df[\"label\"])\n",
    "\n",
    "X_train, X_test, y_train, y_test = train_test_split(X, y, test_size=0.2, random_state=42)\n",
    "\n",
    "\n",
    "sample = X_test.iloc[0]\n",
    "age = sample[\"age\"]\n",
    "gender = sample[\"sex\"]\n",
    "text = sample[\"clean_transcripts\"]\n",
    "\n",
    "# Predicción con GPT-4\n",
    "gpt_prediction = predict_dementia_risk(age, gender, text)\n",
    "print(f\"Predicción GPT-4: {gpt_prediction}\")\n"
   ]
  },
  {
   "cell_type": "code",
   "execution_count": 5,
   "metadata": {},
   "outputs": [
    {
     "name": "stdout",
     "output_type": "stream",
     "text": [
      "dall-e-2\n",
      "o1-mini-2024-09-12\n",
      "o1-preview-2024-09-12\n",
      "o1-mini\n",
      "o1-preview\n",
      "whisper-1\n",
      "dall-e-3\n",
      "babbage-002\n",
      "omni-moderation-latest\n",
      "omni-moderation-2024-09-26\n",
      "tts-1-hd-1106\n",
      "tts-1-hd\n",
      "tts-1\n",
      "gpt-3.5-turbo-16k\n",
      "tts-1-1106\n",
      "davinci-002\n",
      "gpt-3.5-turbo-1106\n",
      "gpt-3.5-turbo-instruct\n",
      "gpt-3.5-turbo-instruct-0914\n",
      "gpt-3.5-turbo-0125\n",
      "gpt-4o-mini-2024-07-18\n",
      "gpt-4o-mini\n",
      "gpt-3.5-turbo\n",
      "text-embedding-3-large\n",
      "text-embedding-3-small\n",
      "text-embedding-ada-002\n"
     ]
    }
   ],
   "source": [
    "models = openai.Model.list()\n",
    "for model in models['data']:\n",
    "    print(model['id'])\n"
   ]
  }
 ],
 "metadata": {
  "kernelspec": {
   "display_name": ".venv",
   "language": "python",
   "name": "python3"
  },
  "language_info": {
   "codemirror_mode": {
    "name": "ipython",
    "version": 3
   },
   "file_extension": ".py",
   "mimetype": "text/x-python",
   "name": "python",
   "nbconvert_exporter": "python",
   "pygments_lexer": "ipython3",
   "version": "3.11.9"
  }
 },
 "nbformat": 4,
 "nbformat_minor": 2
}
